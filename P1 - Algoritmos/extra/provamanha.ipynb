{
  "cells": [
    {
      "cell_type": "code",
      "execution_count": null,
      "metadata": {
        "colab": {
          "background_save": true
        },
        "id": "-6C19K19V2B4",
        "outputId": "349b3f29-3f65-4f0f-dfb3-e2bd0426fb12"
      },
      "outputs": [
        {
          "name": "stdout",
          "output_type": "stream",
          "text": [
            "[[0, 0, 0, 0, 0], [0, 0, 0, 0, 0], [0, 0, 0, 0, 0], [0, 0, 0, 0, 0]]\n"
          ]
        }
      ],
      "source": [
        "#mat = [[0,1,2],[3,4,5],[6,7,8]]\n",
        "#print(mat[1][2])\n",
        "mat = []\n",
        "for i in range(4):\n",
        "  mat.append([0]*5)"
      ]
    },
    {
      "cell_type": "code",
      "execution_count": null,
      "metadata": {
        "id": "MbAAcGC0_JV_"
      },
      "outputs": [],
      "source": [
        "def reajuste(s,p):\n",
        "  return s + s * p / 100\n",
        "\n",
        "for i in range(10):\n",
        "  nome = input('Seu nome: ')\n",
        "  cargo = input('Seu cargo: ').lower()\n",
        "  salario = float(input('Seu salário: R$ '))\n",
        "  if cargo == 'supervisor':\n",
        "    nsalario = reajuste(salario, 10)\n",
        "  elif cargo == 'operario':\n",
        "    nsalario = reajuste(salario, 7)\n",
        "  print('O novo salário de',nome,'é: R$ ',nsalario)"
      ]
    },
    {
      "cell_type": "markdown",
      "metadata": {
        "id": "9Irp4pyy-3_d"
      },
      "source": [
        "3) Faça uma função que receba dois valores inteiros e retorne a quantidade de números pares entre estes valores (incluindo os próprios valores, se forem pares). Em seguida, faça um programa no qual o usuário forneça dois valores para que sejam contados os números pares dentro do intervalo fornecido (2,0 pontos)."
      ]
    },
    {
      "cell_type": "code",
      "execution_count": null,
      "metadata": {
        "colab": {
          "base_uri": "https://localhost:8080/"
        },
        "id": "yTaJ5R6b_I8W",
        "outputId": "34e95a37-d143-4ce8-d0a1-e9bd2f462726"
      },
      "outputs": [
        {
          "name": "stdout",
          "output_type": "stream",
          "text": [
            "Valor 1: 456\n",
            "Valor 2: 980\n",
            "263\n"
          ]
        }
      ],
      "source": [
        "def npares(v1,v2):\n",
        "  count = 0\n",
        "  if v1 < v2:\n",
        "    for i in range(v1,v2+1):\n",
        "      if i % 2 == 0:\n",
        "        count += 1\n",
        "  else:\n",
        "    for i in range(v2,v1+1):\n",
        "      if i % 2 == 0:\n",
        "        count += 1\n",
        "  return count\n",
        "\n",
        "n1 = int(input('Valor 1: '))\n",
        "n2 =  int(input('Valor 2: '))\n",
        "print(npares(n1,n2))"
      ]
    },
    {
      "cell_type": "markdown",
      "metadata": {
        "id": "eHre09tM-32B"
      },
      "source": [
        "4) Faça um programa que peça para n pessoas de uma turma a sua idade. Ao final o programa deverá verificar se a média de idade da turma varia entre 0 e 25,26 e 60 e maior que 60; e então, dizer se a turma é jovem, adulta ou idosa, conforme a média calculada (3,0 pontos)."
      ]
    },
    {
      "cell_type": "code",
      "execution_count": null,
      "metadata": {
        "id": "0TzVIkAl-yfw"
      },
      "outputs": [],
      "source": [
        "#@title\n",
        "qpessoas = int(input('n de p:'))\n",
        "soma = 0\n",
        "for i in range(qpessoas):\n",
        "  idade = int(input('idade: '))\n",
        "  soma += idade\n",
        "media = soma / qpessoas\n",
        "if media <= 25:\n",
        "  print('jovem')\n",
        "elif media <= 60:\n",
        "  print('adulta')\n",
        "else:\n",
        "  print('idosa')"
      ]
    },
    {
      "cell_type": "markdown",
      "metadata": {
        "id": "obg3gC7EkOkZ"
      },
      "source": [
        "> Prova II Unidade I\n",
        "\n",
        "1) Faça uma função que receba 3 valores: um valor inicial, um valor final e um divisor\n",
        "A função deve imprimir todos os valores entre o inicial e o final que são divisíveis pelo\n",
        "divisor fornecido, inclusive os valores inicial e final, se for o caso (3.0 pontos)."
      ]
    },
    {
      "cell_type": "code",
      "execution_count": null,
      "metadata": {
        "id": "lP5kgZ0CkQy4"
      },
      "outputs": [],
      "source": [
        "%reset -f\n",
        "def divid (v1,v2,v3):\n",
        "  if v1 < v2:\n",
        "    for i in range(v1,v2+1):\n",
        "      if i % v3 == 0:\n",
        "        return i\n",
        "  elif v2 < v1:\n",
        "    for i in range(v2,v1-1,-1):\n",
        "      if i % v3 == 0:\n",
        "        return i\n",
        "  else:\n",
        "    if v1 % v3 == 0:\n",
        "      return v1\n",
        "\n",
        "a = int(input())\n",
        "b = int(input())\n",
        "c = int(input())\n",
        "print(divid(a,b,c))"
      ]
    },
    {
      "cell_type": "markdown",
      "metadata": {
        "id": "kmQBQnEDkRl7"
      },
      "source": [
        "2) Utilize a função desenvolvida na questão 1 para fazer um programa que solicite ao\n",
        "usuário os valores inicial e final de um intervalo, além de um terceiro valor. O programa\n",
        "deve imprimir justamente os múltiplos deste terceiro valor constantes do intervalo (2,0\n",
        "ipontos)."
      ]
    },
    {
      "cell_type": "code",
      "execution_count": null,
      "metadata": {
        "id": "peIzUWLnkSFc"
      },
      "outputs": [],
      "source": [
        "%reset -f\n",
        "\n",
        "a = int(input())\n",
        "b = int(input())\n",
        "c = int(input())"
      ]
    },
    {
      "cell_type": "markdown",
      "metadata": {
        "id": "sqho2uj4kow7"
      },
      "source": [
        "3) Foi realizada uma pesquisa de algumas características físicas da população de\n",
        "uma certa região, a qual coletou os seguintes dados referentes a cada habitante para\n",
        "serem analisados:\n",
        "- idade;\n",
        "- sexo (masculino e feminino);\n",
        "- cor dos olhos (azuis, verdes ou castanhos):\n",
        "- cor dos cabelos (louros, castanhos, pretos).\n",
        "Faça um programa que leia estas informações para um total de 100 habitantes e. na\n",
        "sequência, determine e escreva:\n",
        "- a maior idade dos habitantes;\n",
        "- a quantidade de indivíduos do sexo feminino cuja idade está entre 18 e 35 anos\n",
        "(inclusive) e que tenham olhos verdes e cabelos louros.\n",
        "(5.0 pontos)"
      ]
    },
    {
      "cell_type": "code",
      "execution_count": null,
      "metadata": {
        "id": "NL5uSX3sksU0"
      },
      "outputs": [],
      "source": [
        "%reset -f\n",
        "\n",
        "maior = count = 0\n",
        "for i in range(100):\n",
        "  idade = int(input('Informe dua idade: '))\n",
        "  sexo = input('Informe seu sexo: ').lower()\n",
        "  olho = input('Informe a cor dos seus olhos: ').lower()\n",
        "  cabelo = input('Informe a cor do seu cabelo: ').lower()\n",
        "  if idade > maior:\n",
        "    maior = idade\n",
        "  if sexo == 'feminino' and (olho == 'verdes' or 'verde') and (cabelo == 'louros' or 'louro') and 18 <= idade <= 35:\n",
        "    count += 1\n",
        "print('A maior idade dos habitantes é',maior,'e a quantidade de mulheres entre 18 e 35 anos que tem cabelos louros e olhos verdes é',count)"
      ]
    }
  ],
  "metadata": {
    "colab": {
      "provenance": []
    },
    "kernelspec": {
      "display_name": "Python 3",
      "name": "python3"
    },
    "language_info": {
      "name": "python"
    }
  },
  "nbformat": 4,
  "nbformat_minor": 0
}