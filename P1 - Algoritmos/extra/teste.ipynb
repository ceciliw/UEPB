{
  "nbformat": 4,
  "nbformat_minor": 0,
  "metadata": {
    "colab": {
      "provenance": []
    },
    "kernelspec": {
      "name": "python3",
      "display_name": "Python 3"
    },
    "language_info": {
      "name": "python"
    }
  },
  "cells": [
    {
      "cell_type": "markdown",
      "source": [
        "Faça um programa que mostre os n termos da Série a seguir:\n",
        " S = 1/1 + 2/3 + 3/5 + 4/7 + 5/9 + ... + n/m.\n",
        "Imprima no final a soma da série."
      ],
      "metadata": {
        "id": "xtLvEjOByf5E"
      }
    },
    {
      "cell_type": "code",
      "execution_count": null,
      "metadata": {
        "id": "MpfayQ-nyaga",
        "colab": {
          "base_uri": "https://localhost:8080/"
        },
        "outputId": "beeac98c-c0e8-4ea7-cfa2-9d668e578076"
      },
      "outputs": [
        {
          "output_type": "stream",
          "name": "stdout",
          "text": [
            "Quantidade de termos: 4\n",
            "1/1 + 2/3 + 3/5 + 4/7 ≅ 2.84"
          ]
        }
      ],
      "source": [
        "#S = 1/1 + 2/3 + 3/5 + 4/7 + 5/9 + ... + n/m\n",
        "ntermos = int(input('Quantidade de termos: '))\n",
        "if ntermos >= 1:\n",
        "  print('1/1',end='')\n",
        "  total = 1/1\n",
        "  n = 2\n",
        "  m = 3\n",
        "  for i in range(ntermos-1):\n",
        "    print(' + ',n,'/',m,sep='',end='')\n",
        "    total += n/m\n",
        "    n+=1\n",
        "    m+=2\n",
        "  print(' ≅',round(total, 2),end='')"
      ]
    },
    {
      "cell_type": "code",
      "source": [
        "%reset -f\n",
        "\n",
        "termos = int(input('Quantos termos? '))\n",
        "\n",
        "soma = 1.0\n",
        "numerador = 1\n",
        "denominador = 1\n",
        "print('S = ',end='')\n",
        "for i in range(termos):\n",
        "  print(numerador,'/',denominador,' + ',sep='',end='')\n",
        "  numerador+=1;\n",
        "  denominador+=2\n",
        "  soma+=numerador/denominador#to somando mais um, arruma\n",
        "\n",
        "print(' = {:.2f}'.format(soma))"
      ],
      "metadata": {
        "colab": {
          "base_uri": "https://localhost:8080/"
        },
        "id": "DewgXkYoUyYv",
        "outputId": "5f5ecef3-7fb8-44b4-d847-e2408bae5ddd"
      },
      "execution_count": null,
      "outputs": [
        {
          "output_type": "stream",
          "name": "stdout",
          "text": [
            "Quantos termos? 3\n",
            "S = 1/1 + 2/3 + 3/5 +  = 2.84\n"
          ]
        }
      ]
    },
    {
      "cell_type": "code",
      "source": [
        "%reset -f\n",
        "\n",
        "print('1/1 , 1/2 , 1/3 , 1/4 , 1/5 , ... , 1/n')\n",
        "termos = int(input('Quantidade de termos? '))\n",
        "\n",
        "soma = 0\n",
        "numerador = 1\n",
        "denominador = 1\n",
        "\n",
        "for i in range (termos):\n",
        "  print(numerador,'/',denominador,' + ',sep='',end='')\n",
        "  soma += numerador/denominador\n",
        "  denominador+=1\n",
        "\n",
        "print(' = ',round(soma,2))"
      ],
      "metadata": {
        "colab": {
          "base_uri": "https://localhost:8080/"
        },
        "id": "FTJKbO_-TJDv",
        "outputId": "135d8cd1-d450-4bbe-851d-fbfa9e62c4c9"
      },
      "execution_count": null,
      "outputs": [
        {
          "output_type": "stream",
          "name": "stdout",
          "text": [
            "1/1 , 1/2 , 1/3 , 1/4 , 1/5 , ... , 1/n\n",
            "Quantidade de termos? 2\n",
            "1/1 + 1/2 +  =  1.5\n"
          ]
        }
      ]
    }
  ]
}