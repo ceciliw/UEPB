{
 "cells": [
  {
   "cell_type": "markdown",
   "metadata": {},
   "source": [
    "### Laços"
   ]
  },
  {
   "cell_type": "markdown",
   "metadata": {},
   "source": [
    "1. Faça um programa que peça uma nota, entre zero e dez. Mostre uma mensagem caso o valor seja\n",
    "inválido e continue pedindo até que o usuário informe um valor válido."
   ]
  },
  {
   "cell_type": "code",
   "execution_count": null,
   "metadata": {},
   "outputs": [],
   "source": [
    "nota = int(input('Informe uma nota entre 0 e 10: '))\n",
    "while nota < 0 or nota > 10:\n",
    "  print('Valor inválido')\n",
    "  nota = int(input('Informe uma nota entre 0 e 10: '))"
   ]
  },
  {
   "cell_type": "markdown",
   "metadata": {},
   "source": [
    "2. Faça um programa que leia um nome de usuário e a sua senha e não aceite a senha igual ao nome do\n",
    "usuário, mostrando uma mensagem de erro e voltando a pedir as informações."
   ]
  },
  {
   "cell_type": "code",
   "execution_count": null,
   "metadata": {},
   "outputs": [],
   "source": [
    "nome = input('Qual o seu nome? ')\n",
    "senha = input('Digite uma senha: ')\n",
    "while senha == nome:\n",
    "  print('Erro')\n",
    "  senha = input('Digite uma senha: ')"
   ]
  },
  {
   "cell_type": "markdown",
   "metadata": {},
   "source": [
    "3. Supondo que a população de um país A seja da ordem de 80000 habitantes com uma taxa anual de crescimento de 3% e que a população de B seja 200000 habitantes com uma taxa de crescimento de 1.5%. Faça um programa que calcule e escreva o número de anos necessários para que a população do país A ultrapasse ou iguale a população do país B, mantidas as taxas de crescimento."
   ]
  },
  {
   "cell_type": "code",
   "execution_count": null,
   "metadata": {},
   "outputs": [],
   "source": [
    "pa = 80000\n",
    "ta = 0.03\n",
    "pb = 200000\n",
    "tb = 0.015\n",
    "cont = 0\n",
    "while pa < pb:\n",
    "  pa = pa + pa*ta\n",
    "  pb = pb + pb*tb\n",
    "  cont += 1\n",
    "print('Vai demorar',cont,'anos até que a população de A ultrapasse a população de B.')"
   ]
  },
  {
   "cell_type": "markdown",
   "metadata": {},
   "source": [
    "4. Faça um programa que imprima na tela os números de 1 a 20, um abaixo do outro. Depois modifique o\n",
    "programa para que ele mostre os números um ao lado do outro."
   ]
  },
  {
   "cell_type": "code",
   "execution_count": null,
   "metadata": {},
   "outputs": [],
   "source": [
    "for i in range(21):\n",
    "  print(i)\n",
    "\n",
    "print()\n",
    "\n",
    "for i in range(21):\n",
    "  print(i,end=' ')"
   ]
  },
  {
   "cell_type": "markdown",
   "metadata": {},
   "source": [
    "5. Faça um programa que leia 10 números e informe o maior número."
   ]
  },
  {
   "cell_type": "code",
   "execution_count": null,
   "metadata": {},
   "outputs": [],
   "source": [
    "quant = 10\n",
    "n1 = int(input('Forneça um número: '))\n",
    "for i in range(quant-1):\n",
    "  n2 = int(input('Forneça um número: '))\n",
    "  if n2 > n1:\n",
    "    n1 = n2\n",
    "print('O maior é',n1)"
   ]
  },
  {
   "cell_type": "markdown",
   "metadata": {},
   "source": [
    "6. Faça um programa que leia 10 números e informe a soma e a média dos números."
   ]
  },
  {
   "cell_type": "code",
   "execution_count": null,
   "metadata": {},
   "outputs": [],
   "source": [
    "soma = 0\n",
    "for i in range(10):\n",
    "  num = float(input('Digite um número: '))\n",
    "  soma = num + soma\n",
    "media = soma / 10\n",
    "print('O resultado da soma foi',soma,'e a média foi',media)"
   ]
  },
  {
   "cell_type": "markdown",
   "metadata": {},
   "source": [
    "7. Faça um programa que imprima na tela apenas os números ímpares entre 1 e 50."
   ]
  },
  {
   "cell_type": "code",
   "execution_count": null,
   "metadata": {},
   "outputs": [],
   "source": [
    "for i in range(1,50,2):\n",
    "  print(i,end=' ')"
   ]
  },
  {
   "cell_type": "markdown",
   "metadata": {},
   "source": [
    "8. Faça um programa que receba dois números inteiros e gere os números inteiros que estão no intervalo\n",
    "compreendido por eles."
   ]
  },
  {
   "cell_type": "code",
   "execution_count": null,
   "metadata": {},
   "outputs": [],
   "source": [
    "n1 = int(input('Forneça um número: '))\n",
    "n2 = int(input('Forneça um número: '))\n",
    "\n",
    "if n1 < n2:\n",
    "  for i in range(n1,n2+1):\n",
    "    print(i,end=' ')\n",
    "else:\n",
    "  for i in range(n1,n2-1,-1):\n",
    "    print(i,end=' ')"
   ]
  },
  {
   "cell_type": "markdown",
   "metadata": {},
   "source": [
    "9. Desenvolva um gerador de tabuada, capaz de gerar a tabuada de qualquer número inteiro entre 1 a 10.\n",
    "O usuário deve informar de qual número ele deseja ver a tabuada. A saída deve ser conforme o\n",
    "exemplo abaixo:\n",
    "```\n",
    "    Tabuada de 5:\n",
    "    5 X 1 = 5\n",
    "    5 X 2 = 10\n",
    "    ...\n",
    "    5 X 10 = 50\n",
    "```"
   ]
  },
  {
   "cell_type": "code",
   "execution_count": null,
   "metadata": {},
   "outputs": [],
   "source": [
    "num = int(input('Informe o número que você deseja ver a tabuada: '))\n",
    "print('Tabuada de ',num,':',sep='')\n",
    "for i in range(1,11):\n",
    "  print(num,'X',i,'=',num*i)"
   ]
  },
  {
   "cell_type": "markdown",
   "metadata": {},
   "source": [
    "10. Faça um programa que peça dois números, base e expoente, calcule e mostre o primeiro número elevado ao segundo número. Não utilize a função de potência da linguagem."
   ]
  },
  {
   "cell_type": "code",
   "execution_count": null,
   "metadata": {},
   "outputs": [],
   "source": [
    "def potencia(b,e):\n",
    "  result = 1\n",
    "  for i in range(e):\n",
    "    result = result * b\n",
    "  return result\n",
    "\n",
    "base = int(input('Informe a base: '))\n",
    "exp = int(input('Informe o expoente: '))\n",
    "print('O resultado é',potencia(base,exp))"
   ]
  },
  {
   "cell_type": "markdown",
   "metadata": {},
   "source": [
    "11. Faça um programa que peça 10 números inteiros, calcule e mostre a quantidade de números pares e a quantidade de números ímpares."
   ]
  },
  {
   "cell_type": "code",
   "execution_count": null,
   "metadata": {},
   "outputs": [],
   "source": [
    "quantpar = 0\n",
    "quantimpar = 0\n",
    "for i in range(10):\n",
    "  num = int(input('Forneça um número: '))\n",
    "  if num % 2 == 0:\n",
    "    quantpar += 1\n",
    "  else:\n",
    "    quantimpar += 1\n",
    "print('A quantidade de números pares foi',quantpar,'e a de númeres impares foi',quantimpar)"
   ]
  },
  {
   "cell_type": "markdown",
   "metadata": {},
   "source": [
    "12. A série de Fibonacci é formada pela seqüência 1,1,2,3,5,8,13,21,34,55,... Faça um programa capaz de gerar a série até o n−ésimo termo."
   ]
  },
  {
   "cell_type": "code",
   "execution_count": null,
   "metadata": {},
   "outputs": [],
   "source": [
    "num = int(input('Informe quantos valores você deseja: '))\n",
    "v1 = 1\n",
    "v2 = 1\n",
    "print(v1,v2,end=' ')\n",
    "for i in range(num-2):\n",
    "  v3 = v1 + v2\n",
    "  print(v3,end=' ')\n",
    "  v1 = v2\n",
    "  v2 = v3"
   ]
  },
  {
   "cell_type": "markdown",
   "metadata": {},
   "source": [
    "13. Faça um programa que calcule o fatorial de um número inteiro fornecido pelo usuário. Ex.: 5!=5.4.3.2.1=120\n"
   ]
  },
  {
   "cell_type": "code",
   "execution_count": null,
   "metadata": {},
   "outputs": [],
   "source": [
    "def fatorial(n):\n",
    "  fatorial = 1\n",
    "  for i in range(num,0,-1):\n",
    "    fatorial *= i\n",
    "  return fatorial\n",
    "\n",
    "num = int(input('Forneça um número: '))\n",
    "print(num,'! = ',fatorial(num),sep='')"
   ]
  },
  {
   "cell_type": "markdown",
   "metadata": {},
   "source": [
    "14. Faça um programa que, dado um conjunto de N números, determine o menor valor, o maior valor e a soma dos valores."
   ]
  },
  {
   "cell_type": "code",
   "execution_count": null,
   "metadata": {},
   "outputs": [],
   "source": [
    "nnum = int(input('Quantos números estão no conjunto? '))\n",
    "maior = int(input('Forneça um número: '))\n",
    "menor = maior\n",
    "soma = maior\n",
    "for i in range(nnum-1):\n",
    "  num = int(input('Forneça um número: '))\n",
    "  soma = soma + num\n",
    "  if num > maior:\n",
    "    maior = num\n",
    "  if num < menor:\n",
    "    menor = num\n",
    "print('O maior foi ',maior,', o menor foi ',menor,' e a soma dos valores foi ',soma,sep='')"
   ]
  },
  {
   "cell_type": "markdown",
   "metadata": {},
   "source": [
    "15. Faça um programa que peça um número inteiro e determine se ele é ou não um número primo. Um número primo é aquele que é divisível somente por ele mesmo e por 1."
   ]
  },
  {
   "cell_type": "code",
   "execution_count": null,
   "metadata": {},
   "outputs": [],
   "source": [
    "def primo(n):\n",
    "  for i in range(2,n):\n",
    "    if n % i == 0:\n",
    "      return False\n",
    "  return True\n",
    "\n",
    "num = int(input('Forneça um número: '))\n",
    "if primo(num):\n",
    "  print('É primo')\n",
    "else:\n",
    "  print('Não é primo')"
   ]
  },
  {
   "cell_type": "markdown",
   "metadata": {},
   "source": [
    "16. Faça um programa que peça para n pessoas a sua idade, ao final o programa deverá verificar se a média de idade da turma varia entre 0 e 25,26 e 60 e maior que 60; e então, dizer se a turma é jovem, adulta ou idosa, conforme a média calculada."
   ]
  },
  {
   "cell_type": "code",
   "execution_count": null,
   "metadata": {},
   "outputs": [],
   "source": [
    "npessoas = int(input('Quantas pessoas? '))\n",
    "soma = 0\n",
    "for i in range(npessoas):\n",
    "  idade = int(input('Informe sua idade: '))\n",
    "  soma = idade + soma\n",
    "media = soma / npessoas\n",
    "if media <= 25:\n",
    "  print('A turma é jovem')\n",
    "elif media <= 60:\n",
    "  print('A turma é adulta')\n",
    "else:\n",
    "  print('A turma é idosa')"
   ]
  },
  {
   "cell_type": "markdown",
   "metadata": {},
   "source": [
    "17. Faça um programa que calcule o número médio de alunos por turma. Para isto, peça a quantidade de turmas e a quantidade de alunos para cada turma. As turmas não podem ter mais de 40 alunos."
   ]
  },
  {
   "cell_type": "code",
   "execution_count": null,
   "metadata": {},
   "outputs": [],
   "source": [
    "nturmas = int(input('Quantas turmas? '))\n",
    "soma = 0\n",
    "for i in range(nturmas):\n",
    "  nalunos = int(input('Quantos alunos estão na turma? '))\n",
    "  if nalunos <= 40:\n",
    "    soma = nalunos + soma\n",
    "  else:\n",
    "    print('Valor inválido')\n",
    "    break\n",
    "if nalunos <= 40:\n",
    "  media = soma / nturmas\n",
    "  print('A média de alunos por turma é',media)"
   ]
  },
  {
   "cell_type": "markdown",
   "metadata": {},
   "source": [
    "18. Faça um programa que calcule o valor total investido por um colecionador em sua coleção de CDs e o valor médio gasto em cada um deles. O usuário deverá informar a quantidade de CDs e o valor pago em cada um."
   ]
  },
  {
   "cell_type": "code",
   "execution_count": null,
   "metadata": {},
   "outputs": [],
   "source": [
    "quantcds = int(input('Quantos CDs você possui? '))\n",
    "valortotal = 0\n",
    "for i in range(quantcds):\n",
    "  print('Quanto gastou no ',i+1,'° CD? R$ ',sep='',end='')\n",
    "  valorcd = float(input())\n",
    "  valortotal = valorcd + valortotal\n",
    "media = valortotal / quantcds\n",
    "print('O valor médio gasto em cada CD é R$',media)"
   ]
  },
  {
   "cell_type": "markdown",
   "metadata": {},
   "source": [
    "19. O Sr. Manoel Joaquim possui uma grande loja de artigos de R$ 1,99, com cerca de 10 caixas. Para agilizar o cálculo de quanto cada cliente deve pagar ele desenvolveu um tabela que contém o número de itens que o cliente comprou e ao lado o valor da conta. Desta forma a atendente do caixa precisa apenas contar quantos itens o cliente está levando e olhar na tabela de preços. Você foi contratado para desenvolver o programa que monta esta tabela de preços, que conterá os preços de 1 até 50 produtos, conforme o exemplo abaixo:\n",
    "```\n",
    "    Lojas Quase Dois - Tabela de preços\n",
    "    1 - R$ 1.99\n",
    "    2 - R$ 3.98\n",
    "    ...\n",
    "    50 - R$ 99.50\n",
    "```"
   ]
  },
  {
   "cell_type": "code",
   "execution_count": null,
   "metadata": {},
   "outputs": [],
   "source": [
    "print('Lojas Quase Dois - Tabela de preços')\n",
    "for i in range (1,51):\n",
    "  print(i,'- R$',i*1.99)"
   ]
  },
  {
   "cell_type": "markdown",
   "metadata": {},
   "source": [
    "20. O Sr. Manoel Joaquim expandiu seus negócios para além dos negócios de 1,99 e agora possui uma loja de conveniências. Faça um programa que implemente uma caixa registradora rudimentar. O programa deverá receber um número desconhecido de valores referentes aos preços das mercadorias. Um valor zero deve ser informado pelo operador para indicar o final da compra. O programa deve então mostrar o total da compra e perguntar o valor em dinheiro que o cliente forneceu, para então calcular e mostrar o valor do troco. (Após esta operação, o programa deverá voltar ao ponto inicial, para registrar a próxima compra. A saída deve ser conforme o exemplo abaixo:) <- Não precisa fazer essa parte, exige laços aninhados.\n",
    "```\n",
    "    Lojas Tabajara\n",
    "    Produto 1: R$ 2.20\n",
    "    Produto 2: R$ 5.80\n",
    "    Produto 3: R$ 0\n",
    "    Total: R$ 9.00\n",
    "    Dinheiro: R$ 20.00\n",
    "    Troco: R$ 11.00\n",
    "    ...\n",
    "```"
   ]
  },
  {
   "cell_type": "code",
   "execution_count": null,
   "metadata": {},
   "outputs": [],
   "source": [
    "print('Lojas Tabajara')\n",
    "p = total = float(input('Produto 1: R$ '))\n",
    "n = 2\n",
    "while p != 0:\n",
    "  print('Produto ',n,': R$ ',end='',sep='')\n",
    "  p = float(input())\n",
    "  n += 1\n",
    "  total += p\n",
    "print('Total: R$',total)\n",
    "dinhe = float(input('Dinheiro: R$ '))\n",
    "print('Troco: R$',dinhe - total)"
   ]
  },
  {
   "cell_type": "markdown",
   "metadata": {},
   "source": [
    "21. Foi feita uma estatística em cinco cidades brasileiras para coletar dados sobre acidentes de trânsito. Foram obtidos os seguintes dados:\n",
    "- Código da cidade;\n",
    "- Número de veículos de passeio (em 2019);\n",
    "- Número de acidentes de trânsito com vítimas (em 2019).\n",
    "\n",
    "    Deseja-se saber:\n",
    "- Qual o maior e menor índice de acidentes de trânsito e a que cidade pertence;\n",
    "- Qual a média de veículos nas cinco cidades juntas;\n",
    "- Qual a média de acidentes de trânsito nas cidades com menos de 2.000 veículos de passeio."
   ]
  },
  {
   "cell_type": "code",
   "execution_count": null,
   "metadata": {},
   "outputs": [],
   "source": [
    "#21  CONCERTAR O MAIOR E MENOR\n",
    "\n",
    "totalveiculos = totalacidentes = cont = maior = menor = 0\n",
    "for i in range(5):\n",
    "  codigo = int(input('Código da cidade: '))\n",
    "  nveiculos = int(input('Número de veículos de passeio (em 2019): '))\n",
    "  nacidentes = int(input('Número de acidentes de trânsito com vítimas (em 2019): '))\n",
    "  indice = nacidentes * 100 / nveiculos\n",
    "  if indice >= maior:\n",
    "    codmenor = codigo\n",
    "  menor = maior\n",
    "  if indice <= menor:\n",
    "    codmaior = codigo\n",
    "#  if nveiculos < 2000:\n",
    "#    totalacidentes += nacidentes\n",
    "#    cont += 1\n",
    "#  totalveiculos += nveiculos\n",
    "#mediaveiculos = totalveiculos / 5\n",
    "#mediaacidentes = totalacidentes / cont\n",
    "\n",
    "print('O maior índice de acidentes foi da cidade {} e o menor da {}'.format(codmaior,codmenor))\n",
    "#print('A média de veículos nas cinco cidades juntas é',mediaveiculos)\n",
    "#print('A média de acidentes nas cidades com menos de 2.000 veículos é',mediaacidentes)"
   ]
  },
  {
   "cell_type": "markdown",
   "metadata": {},
   "source": [
    "22. Faça um programa que receba o valor de uma dívida e mostre uma tabela com os seguintes dados: valor da dívida, valor dos juros, quantidade de parcelas e valor da parcela.\n",
    "\n",
    "    Os juros e a quantidade de parcelas seguem a tabela abaixo:\n",
    "\n",
    "\n",
    "    | Quantidade de Parcelas | % de Juros sobre o valor inicial |\n",
    "    | ---------------------- | -------------------------------- |\n",
    "    | 1 | 0 |\n",
    "    | 3 | 10 |\n",
    "    | 6 | 15 |\n",
    "    | 9 | 20 |\n",
    "    | 12 | 25 |\n",
    "\n",
    "Exemplo de saída do programa:\n",
    "| Valor da Dívida | Valor dos Juros | Quantidade de Parcelas | Valor da Parcela |\n",
    "| --------------- | --------------- | ---------------------- | ---------------- |\n",
    "| R$ 1.000,00 | 0   | 1 | R$ 1.000,00 |\n",
    "| R$ 1.100,00 | 100 | 3 | R$ 366,00 |\n",
    "| R$ 1.150,00 | 150 | 6 | R$ 191,67 |"
   ]
  },
  {
   "cell_type": "code",
   "execution_count": null,
   "metadata": {},
   "outputs": [],
   "source": [
    "valor = float(input('Informe o valor da dívida: '))"
   ]
  },
  {
   "cell_type": "markdown",
   "metadata": {},
   "source": [
    "23. Desenvolver um programa para verificar a nota do aluno em uma prova com 10 questões, o programa deve perguntar ao aluno a resposta de cada questão e ao final comparar com o gabarito da prova e assim calcular o total de acertos e a nota (atribuir 1 ponto por resposta certa). Após cada aluno utilizar o sistema deve ser feita uma pergunta se outro aluno vai utilizar o sistema. Após todos os alunos terem\n",
    "respondido informar:\n",
    "- Maior e Menor Acerto;\n",
    "- Total de Alunos que utilizaram o sistema;\n",
    "- A Média das Notas da Turma.\n",
    "```\n",
    "    Gabarito da Prova:\n",
    "        01 - A\n",
    "        02 - B\n",
    "        03 - C\n",
    "        04 - D\n",
    "        05 - E\n",
    "        06 - E\n",
    "        07 - D\n",
    "        08 - C\n",
    "        09 - B\n",
    "        10 - A\n",
    "```\n",
    "Após concluir isto você poderia incrementar o programa permitindo que o professor digite o gabarito da prova antes dos alunos usarem o programa."
   ]
  },
  {
   "cell_type": "code",
   "execution_count": null,
   "metadata": {},
   "outputs": [],
   "source": [
    "#aluno utilizar, mostrar nota, perguntar se outro vai usar (+=1), repete,  maior acerto, menor acerto, media da turma\n",
    "gabarito =['a','b','c','d','e','e','d','c','b','a']\n",
    "r = []\n",
    "total = maior = menor = alun = perg = 0\n",
    "while perg != 'nao' or perg != 'não':\n",
    "  alun += 1\n",
    "  cont = 0\n",
    "  for i in range(5):\n",
    "    print('Questão',i+1,'-',end=' ')\n",
    "    r.append(input().lower())\n",
    "    if r[i] == gabarito[i]:\n",
    "      cont += 1\n",
    "  print('Sua nota é',cont)\n",
    "  total += cont\n",
    "  if maior < cont:\n",
    "    maior = cont\n",
    "  if menor > cont:\n",
    "    menor = cont\n",
    "  perg = input('Outro aluno vai utilizar: ').lower()\n",
    "print('A media foi',total/alun)"
   ]
  },
  {
   "cell_type": "markdown",
   "metadata": {},
   "source": [
    "24. Faça um programa que peça um numero inteiro positivo e em seguida mostre este numero invertido.\n",
    "\n",
    "    Exemplo: 12376489 => 98467321"
   ]
  },
  {
   "cell_type": "code",
   "execution_count": null,
   "metadata": {},
   "outputs": [],
   "source": [
    "n = int(input('Informe o número: '))\n",
    "novo = 0\n",
    "while n > 0:\n",
    "  novo = novo * 10 + (n%10)\n",
    "  n //= 10\n",
    "\n",
    "print('O número invertido é:',novo)"
   ]
  },
  {
   "cell_type": "code",
   "execution_count": null,
   "metadata": {},
   "outputs": [],
   "source": [
    "n = int(input('Informe o número: '))\n",
    "cont = 0\n",
    "while n > 0:\n",
    "  n //= 10\n",
    "  cont += 1\n",
    "print('O número possui {} algarismos.'.format(cont))"
   ]
  },
  {
   "cell_type": "markdown",
   "metadata": {},
   "source": [
    "25. Faça um programa que mostre os n termos da Série a seguir:\n",
    "    \n",
    "    ```S = 1/1 + 2/3 + 3/5 + 4/7 + 5/9 + ... + n/m.```\n",
    "    \n",
    "    Imprima no final a soma da série."
   ]
  },
  {
   "cell_type": "code",
   "execution_count": null,
   "metadata": {},
   "outputs": [],
   "source": [
    "ntermos = int(input('Quantidade de termos: '))\n",
    "if ntermos >= 1:\n",
    "  print('1/1',end='')\n",
    "  total = 1/1\n",
    "  n = 2\n",
    "  m = 3\n",
    "  for i in range(ntermos-1):\n",
    "    print(' + ',n,'/',m,sep='',end='')\n",
    "    total += n/m\n",
    "    n+=1\n",
    "    m+=2\n",
    "  print(' ≅',round(total, 2),end='')"
   ]
  },
  {
   "cell_type": "markdown",
   "metadata": {},
   "source": [
    "26. Sendo H= 1 + 1/2 + 1/3 + 1/4 + ... + 1/N, Faça um programa que calcule o valor de H com N termos."
   ]
  },
  {
   "cell_type": "code",
   "execution_count": null,
   "metadata": {},
   "outputs": [],
   "source": [
    "qtermos = int(input('Quantidade de termos: '))\n",
    "v1 = 1\n",
    "for i in range(2,qtermos+1):\n",
    "  v = 1/i\n",
    "  v1 += v\n",
    "print(v1)"
   ]
  },
  {
   "cell_type": "markdown",
   "metadata": {},
   "source": [
    "27. Faça um programa que gera uma lista dos números primos existentes entre 1 e um número inteiro informado pelo usuário."
   ]
  },
  {
   "cell_type": "code",
   "execution_count": null,
   "metadata": {},
   "outputs": [],
   "source": [
    "def primo(n):\n",
    "  for i in range(2,n):\n",
    "    if n % i == 0:\n",
    "      return False\n",
    "  return True\n",
    "\n",
    "num = int(input('Informe o valor: '))\n",
    "print(1,end=' ')\n",
    "for i in range(2,num):\n",
    " if primo(i):\n",
    "   print(i,end=' ')\n",
    "if primo(num):\n",
    "  print(num,end=' ')"
   ]
  }
 ],
 "metadata": {
  "kernelspec": {
   "display_name": "Python 3",
   "language": "python",
   "name": "python3"
  },
  "language_info": {
   "codemirror_mode": {
    "name": "ipython",
    "version": 3
   },
   "file_extension": ".py",
   "mimetype": "text/x-python",
   "name": "python",
   "nbconvert_exporter": "python",
   "pygments_lexer": "ipython3",
   "version": "3.12.3"
  }
 },
 "nbformat": 4,
 "nbformat_minor": 2
}
