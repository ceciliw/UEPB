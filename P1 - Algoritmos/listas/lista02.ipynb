{
 "cells": [
  {
   "cell_type": "markdown",
   "metadata": {},
   "source": [
    "### Condicionais"
   ]
  },
  {
   "cell_type": "markdown",
   "metadata": {},
   "source": [
    "1. Faça um Programa que verifique se uma letra digitada é vogal ou consoante."
   ]
  },
  {
   "cell_type": "code",
   "execution_count": null,
   "metadata": {},
   "outputs": [],
   "source": [
    "def vogal(letra):\n",
    "  letra = letra.lower()\n",
    "  if letra == 'a' or letra == 'e' or letra == 'i'or letra == 'o' or letra == 'u':\n",
    "    return True\n",
    "  return False\n",
    "\n",
    "letra = input('Digite uma letra: ')\n",
    "if vogal(letra):\n",
    "  print ('É vogal')\n",
    "else:\n",
    "  print ('É consoante')"
   ]
  },
  {
   "cell_type": "markdown",
   "metadata": {},
   "source": [
    "2. Faça um programa para a leitura de duas notas parciais de um aluno. O programa deve calcular a média alcançada por aluno e apresentar:\n",
    "- A mensagem \"Aprovado\", se a média alcançada for maior ou igual a sete;\n",
    "- A mensagem “Prova Final”, se a média alcançada estiver entre quatro e sete;\n",
    "- A mensagem \"Reprovado\", se a média for menor do que quatro."
   ]
  },
  {
   "cell_type": "code",
   "execution_count": null,
   "metadata": {},
   "outputs": [],
   "source": [
    "def media (n1, n2):\n",
    "  return (n2 + n1) / 2\n",
    "\n",
    "n1 = float(input('Informe sua primeira nota: '))\n",
    "n2 = float(input('Informe sua segunda nota: '))\n",
    "\n",
    "if media (n1, n2) >= 7:\n",
    "  print('Aprovado')\n",
    "elif media (n1, n2) > 4:\n",
    "  print('Prova Final')\n",
    "else:\n",
    "  print('Reprovado')"
   ]
  },
  {
   "cell_type": "markdown",
   "metadata": {},
   "source": [
    "3. Faça um Programa que leia três números e mostre o maior e o menor deles."
   ]
  },
  {
   "cell_type": "code",
   "execution_count": null,
   "metadata": {},
   "outputs": [],
   "source": [
    "def maior(x,y,z):\n",
    "  if x >= y and x >= z:\n",
    "    return x\n",
    "  elif y >= x and y >= z:\n",
    "    return y\n",
    "  else:\n",
    "    return z\n",
    "\n",
    "def menor(x,y,z):\n",
    "  if x <= y and x <= z:\n",
    "    return x\n",
    "  elif y <= x and y <= z:\n",
    "    return y\n",
    "  else:\n",
    "    return z\n",
    "\n",
    "n1 = float(input('Determine n1: '))\n",
    "n2 = float(input('Determine n2: '))\n",
    "n3 = float(input('Determine n3: '))\n",
    "\n",
    "print('O maior é',maior(n1,n2,n3),'e o menor é',menor(n1,n2,n3))"
   ]
  },
  {
   "cell_type": "markdown",
   "metadata": {},
   "source": [
    "4. Faça um programa que pergunte o preço de três produtos e informe qual produto você deve comprar, sabendo que a decisão é sempre pelo mais barato."
   ]
  },
  {
   "cell_type": "code",
   "execution_count": null,
   "metadata": {},
   "outputs": [],
   "source": [
    "def menor(v1,v2,v3):\n",
    "  if v1 <= v2 and v1 <= v3:\n",
    "    return 'primeiro'\n",
    "  elif v2 <= v1 and v2 <= v3:\n",
    "    return 'segundo'\n",
    "  else:\n",
    "    return 'terceiro'\n",
    "\n",
    "primei = float(input('Informe o preço do primeiro produto: '))\n",
    "segun = float(input('Informe o preço do segundo produto: '))\n",
    "terce = float(input('Informe o preço do terceiro produto: '))\n",
    "produto = menor(primei,segun,terce)\n",
    "print('Você deve comprar o',produto,'produto')\n",
    "\n",
    "#ou pode ser: return v1 ou v2 ou v3 e imprimir \"voce deverá comprar o que custa x reais\""
   ]
  },
  {
   "cell_type": "markdown",
   "metadata": {},
   "source": [
    "5. Faça um Programa que leia três números e mostre-os em ordem decrescente."
   ]
  },
  {
   "cell_type": "code",
   "execution_count": null,
   "metadata": {},
   "outputs": [],
   "source": [
    "def primeiro(a1,a2,a3):\n",
    "  if a1 >= a2 and a1 >= a3:\n",
    "    return a1\n",
    "  elif a2 >= a1 and a2 >= a3:\n",
    "    return a2\n",
    "  else:\n",
    "    return a3\n",
    "\n",
    "def segundo(b1,b2,b3):\n",
    "  if b1 >= b2 and b1 <= b3 or b1 <= b2 and b1 >= b3:\n",
    "    return b1\n",
    "  elif b2 >= b1 and b2 <= b3 or b2 <= b1 and b2 >= b3:\n",
    "    return b2\n",
    "  else:\n",
    "    return b3\n",
    "\n",
    "def terceiro(c1,c2,c3):\n",
    "  if c1 <= c2 and c1 <= c3:\n",
    "    return c1\n",
    "  elif c2 <= c1 and c2 >= c3:\n",
    "    return c2\n",
    "  else:\n",
    "    return c3\n",
    "\n",
    "n1 = float(input('Forneça um número: '))\n",
    "n2 = float(input('Forneça um número: '))\n",
    "n3 = float(input('Forneça um número: '))\n",
    "print(primeiro(n1,n2,n3), segundo(n1,n2,n3), terceiro(n1,n2,n3))"
   ]
  },
  {
   "cell_type": "markdown",
   "metadata": {},
   "source": [
    "6. Faça um Programa que pergunte em que turno você estuda. Peça para digitar M-matutino ou V-Vespertino ou N-Noturno. Imprima a mensagem \"Bom Dia!\", \"Boa Tarde!\" ou \"Boa Noite!\" ou \"Valor Inválido!\", conforme o caso."
   ]
  },
  {
   "cell_type": "code",
   "execution_count": null,
   "metadata": {},
   "outputs": [],
   "source": [
    "turno = input('Em que turno você estuda? (Digite \"M\" se for Matutino, \"V\" se for Vespertino ou \"N\" caso for Noturno) ').lower()\n",
    "if turno == 'm':\n",
    "    print('Bom dia!')\n",
    "elif turno == 'v':\n",
    "    print('Boa tarde!')\n",
    "elif turno == 'n':\n",
    "    print('Boa noite!')\n",
    "else:\n",
    "    print('Valor inválido')"
   ]
  },
  {
   "cell_type": "markdown",
   "metadata": {},
   "source": [
    "7. Faça um programa para o cálculo de uma folha de pagamento, sabendo que os descontos são do Imposto de Renda, que depende do salário bruto (conforme tabela abaixo) e 3% para o Sindicato e que o FGTS corresponde a 11% do Salário Bruto, mas não é descontado (é a empresa que deposita). O Salário Líquido corresponde ao Salário Bruto menos os descontos. O programa deverá pedir ao usuário o valor da sua hora e a quantidade de horas trabalhadas no mês. Desconto do IR:\n",
    "   \n",
    "    Salário Bruto até 900 (inclusive) - isento\n",
    "    \n",
    "    Salário Bruto até 1500 (inclusive) - desconto de 5%\n",
    "    \n",
    "    Salário Bruto até 2500 (inclusive) - desconto de 10%\n",
    "    \n",
    "    Salário Bruto acima de 2500 - desconto de 20%\n",
    "\n",
    "Imprima na tela as informações, dispostas conforme o exemplo abaixo. No exemplo o valor da hora é 5 e a quantidade de hora é 220.\n",
    "```\n",
    "Salário Bruto: (5 * 220)    : R$ 1100,00\n",
    "(-) IR (5%)                 : R$ 55,00\n",
    "(-) Sindicato ( 3%)         : R$ 33,00\n",
    "FGTS (11%)                  : R$ 121,00\n",
    "Total de descontos          : R$ 88,00\n",
    "Salário Líquido             : R$ 1012,00\n",
    "```"
   ]
  },
  {
   "cell_type": "code",
   "execution_count": null,
   "metadata": {},
   "outputs": [],
   "source": [
    "def IR(sb):\n",
    "  sb = valorhora * quanthoras\n",
    "  if sb <= 900:\n",
    "    return 0\n",
    "  elif 900 < sb <= 1500:\n",
    "    return 5\n",
    "  elif 1500 < sb <= 2500:\n",
    "    return 10\n",
    "  else:\n",
    "    return 20\n",
    "\n",
    "valorhora = float(input('Informe o valor da hora: '))\n",
    "quanthoras = int(input('informe a quantidade de horas: '))\n",
    "sb = valorhora * quanthoras\n",
    "print('Salário bruto:(',valorhora,'*',quanthoras,') : R$',sb)\n",
    "ir = IR(sb) * sb / 100\n",
    "print('(-) IR (',IR(sb),'): R$',ir)\n",
    "sindicato = sb * 0.03\n",
    "print('(-) Sindicato (3%): R$',sindicato)\n",
    "fgts = sb * 0.11\n",
    "print('FGTS (11%): R$',fgts)\n",
    "descontos = sindicato + ir\n",
    "print('Total de descontos: R$',descontos)\n",
    "salarioliq = sb - descontos\n",
    "print('Salário líquido: R$',salarioliq)"
   ]
  },
  {
   "cell_type": "markdown",
   "metadata": {},
   "source": [
    "8. Faça um Programa que leia um número e exiba o dia correspondente da semana. (1-Domingo, 2-Segunda, etc.), se digitar outro valor deve aparecer valor inválido."
   ]
  },
  {
   "cell_type": "code",
   "execution_count": null,
   "metadata": {},
   "outputs": [],
   "source": [
    "dia = int(input('Insira um numero de 1 a 7: '))\n",
    "if dia == 1:\n",
    "  print('Domingo')\n",
    "elif dia == 2:\n",
    "  print('Segunda')\n",
    "elif dia == 3:\n",
    "  print('Terça')\n",
    "elif dia == 4:\n",
    "  print('Quarta')\n",
    "elif dia == 5:\n",
    "  print('Quinta')\n",
    "elif dia == 6:\n",
    "  print('Sexta')\n",
    "elif dia == 7:\n",
    "  print('Sábado')\n",
    "else:\n",
    "  print('Valor inválido')"
   ]
  },
  {
   "cell_type": "markdown",
   "metadata": {},
   "source": [
    "9. Faça um programa que calcule as raízes de uma equação do segundo grau, na forma ax2 + bx + c. O programa deverá pedir os valores de a, b e c e fazer as consistências, informando ao usuário nas seguintes situações:\n",
    "- Se o usuário informar o valor de A igual a zero, a equação não é do segundo grau e o programa não deve fazer pedir os demais valores, sendo encerrado;\n",
    "- Se o delta calculado for negativo, a equação não possui raizes reais. Informe ao usuário e encerre o programa;\n",
    "- Se o delta calculado for igual a zero a equação possui apenas uma raiz real; informe-a ao usuário;\n",
    "- Se o delta for positivo, a equação possui duas raiz reais; informe-as ao usuário;"
   ]
  },
  {
   "cell_type": "code",
   "execution_count": null,
   "metadata": {},
   "outputs": [],
   "source": [
    "def delta(a,b,c):\n",
    "  delta = b**2 - 4 * a * c\n",
    "  return delta\n",
    "\n",
    "def raiz1(a,b):\n",
    "  raiz1 = (-b + (delta(a,b,c)**0.5)) / (2 * a)\n",
    "  return raiz1\n",
    "\n",
    "def raiz2(a,b):\n",
    "  raiz2 = (-b - (delta(a,b,c)**0.5)) / (2 * a)\n",
    "  return raiz2\n",
    "\n",
    "a = float(input('Informe o valor de a: '))\n",
    "if a > 0:\n",
    "  b = float(input('Informe o valor de b: '))\n",
    "  c= float(input('Informe o valor de c: '))\n",
    "  if delta(a,b,c) > 0:\n",
    "    print('As raízes da equação são:',raiz1(a,b),'e',raiz2(a,b))\n",
    "  elif delta(a,b,c) == 0:\n",
    "    print('A raiz da equação é:',raiz1(a,b))\n",
    "  else:\n",
    "    print('A equação não possui raízes reais')\n",
    "else:\n",
    "  print('A equação não é do segundo grau')"
   ]
  },
  {
   "cell_type": "markdown",
   "metadata": {},
   "source": [
    "10.  Faça um Programa que peça um número correspondente a um determinado ano e em seguida informe se este ano é ou não bissexto."
   ]
  },
  {
   "cell_type": "code",
   "execution_count": null,
   "metadata": {},
   "outputs": [],
   "source": [
    "def bissexto(ano):\n",
    "  if ano % 4 == 0 and ano % 100 != 0 or ano % 400 == 0:\n",
    "    return 'é bissexto'\n",
    "  else:\n",
    "    return 'não é bissexto'\n",
    "\n",
    "ano = int(input('Informe o ano: '))\n",
    "print('O ano informado',bissexto(ano))"
   ]
  },
  {
   "cell_type": "markdown",
   "metadata": {},
   "source": [
    "11.  Faça um Programa que leia um número inteiro menor que 1000 e imprima a quantidade de centenas, dezenas e unidades do mesmo. Observando os termos no plural a colocação do \"e\", da vírgula entre outros. Exemplo: 326 = 3 centenas, 2 dezenas e 6 unidades | 12 = 1 dezena e 2 unidades\n",
    "\n",
    "Testar com: 326, 300, 100, 320, 310,305, 301, 101, 311, 111, 25, 20, 10, 21, 11, 1, 7 e 16"
   ]
  },
  {
   "cell_type": "code",
   "execution_count": null,
   "metadata": {},
   "outputs": [],
   "source": [
    "#11 #estude essa quest depois!!!!\n",
    "\n",
    "def cent(num):\n",
    "  centena = num // 100\n",
    "  return centena\n",
    "\n",
    "def dez(num):\n",
    "  dezena = (num - cent(num) * 100) // 10\n",
    "  return dezena\n",
    "\n",
    "def uni(num):\n",
    "  unidade = num - cent(num) * 100 - dez(num) * 10\n",
    "  return unidade\n",
    "\n",
    "n = abs(int(input('Digite um número inteiro menor que 1000: ')))\n",
    "\n",
    "# o resto do que eu fiz é uma confusão, refazer"
   ]
  },
  {
   "cell_type": "markdown",
   "metadata": {},
   "source": [
    "12. Faça um Programa para um caixa eletrônico. O programa deverá perguntar ao usuário o valor do saque e depois informar quantas notas de cada valor serão fornecidas. As notas disponíveis serão as de 1, 5, 10, 50 e 100 reais. O valor mínimo é de 10 reais e o máximo de 600 reais. O programa não deve se preocupar com a quantidade de notas existentes na máquina.\n",
    "\n",
    "    Exemplo 1: Para sacar a quantia de 256 reais, o programa fornece duas notas de 100, uma nota de 50, uma nota de 5 e uma nota de 1;\n",
    "    \n",
    "    Exemplo 2: Para sacar a quantia de 399 reais, o programa fornece três notas de 100, uma nota de 50, quatro notas de 10, uma nota de 5 e quatro notas de 1."
   ]
  },
  {
   "cell_type": "code",
   "execution_count": null,
   "metadata": {},
   "outputs": [],
   "source": [
    "def cem(n):\n",
    "  notas = n // 100\n",
    "  return notas\n",
    "\n",
    "def cinquenta(n):\n",
    "  notas = (n - cem(n) * 100) // 50\n",
    "  return notas\n",
    "\n",
    "def dez(n):\n",
    "  notas = (n - cem(n) * 100 - cinquenta(n) * 50) // 10\n",
    "  return notas\n",
    "\n",
    "def cinco(n):\n",
    "  notas = (n - cem(n) * 100 - cinquenta(n) * 50 - dez(n) * 10) // 5\n",
    "  return notas\n",
    "\n",
    "def um(n):\n",
    "  notas = n - cem(n) * 100 - cinquenta(n) * 50 - dez(n) * 10 - cinco(n) * 5\n",
    "  return notas\n",
    "\n",
    "saque = int(input('Qual o valor do saque? '))\n",
    "if 10 < saque < 600:\n",
    "  if cem(saque) > 0:\n",
    "    print(cem(saque),'nota(s) de 100;',end=' ')\n",
    "  if cinquenta(saque) > 0:\n",
    "    print(cinquenta(saque),'nota(s) de 50;',end=' ')\n",
    "  if dez(saque) > 0:\n",
    "    print(dez(saque),'nota(s) de 10;',end=' ')\n",
    "  if cinco(saque) > 0:\n",
    "    print(cinco(saque),'nota(s) de 5;',end=' ')\n",
    "  if um(saque) > 0:\n",
    "    print(um(saque),'nota(s) de 1.',end=' ')\n",
    "else:\n",
    "  print('Valor inválido')"
   ]
  },
  {
   "cell_type": "markdown",
   "metadata": {},
   "source": [
    "13. Faça um programa que faça 5 perguntas para uma pessoa sobre um crime. As perguntas são:\n",
    "- \"Telefonou para a vítima?\"\n",
    "- \"Esteve no local do crime?\"\n",
    "- \"Mora perto da vítima?\"\n",
    "- \"Devia para a vítima?\"\n",
    "- \"Já trabalhou com a vítima?\"\n",
    "    \n",
    "    O programa deve no final emitir uma classificação sobre a participação da pessoa no crime. Se a pessoa responder positivamente a 2 questões ela deve ser classificada como \"Suspeita\", entre 3 e 4 como \"Cúmplice\" e 5 como \"Assassino\". Caso contrário, ele será classificado como \"Inocente\"."
   ]
  },
  {
   "cell_type": "code",
   "execution_count": null,
   "metadata": {},
   "outputs": [],
   "source": [
    "print('Responda com \"S\" para \"Sim\" e \"N\" para \"Não\"')\n",
    "telefonou = input('Telefonou para a vítima? ').lower()\n",
    "local = input('Esteve no local do crime? ').lower()\n",
    "moraperto = input('Mora perto da vítima? ').lower()\n",
    "devia = input('Devia para a vítima? ').lower()\n",
    "jatrabalhou = input('Já trabalhou com a vítima? ').lower()\n",
    "quant = 0\n",
    "if telefonou == 's':\n",
    "  quant += 1\n",
    "if local == 's':\n",
    "  quant += 1\n",
    "if moraperto == 's':\n",
    "  quant += 1\n",
    "if devia == 's':\n",
    "  quant += 1\n",
    "if jatrabalhou == 's':\n",
    "  quant += 1\n",
    "\n",
    "if quant < 2:\n",
    "  print('Inocente')\n",
    "elif quant == 2:\n",
    "  print('Suspeito')\n",
    "elif quant <= 4:\n",
    "  print('Cúmplice')\n",
    "else:\n",
    "  print('Assassino')"
   ]
  },
  {
   "cell_type": "markdown",
   "metadata": {},
   "source": [
    "14.  Um posto está vendendo combustíveis com a seguinte tabela de descontos:\n",
    "   \n",
    "   Álcool: até 20 litros, desconto de 3% por litro acima de 20 litros, desconto de 5% por litro\n",
    "   \n",
    "   Gasolina: até 20 litros, desconto de 4% por litro acima de 20 litros, desconto de 6% por litro\n",
    "   \n",
    "   Escreva um algoritmo que leia o número de litros vendidos, o tipo de combustível (codificado da seguinte forma: A-álcool, G-gasolina), calcule e imprima o valor a ser pago pelo cliente sabendo-se que o preço do litro da gasolina é R$ 4,50 o preço do litro do álcool é R$ 3,40."
   ]
  },
  {
   "cell_type": "code",
   "execution_count": null,
   "metadata": {},
   "outputs": [],
   "source": [
    "nlitros = int(input('Quantos litros você deseja abastecer? '))\n",
    "tipo = input('Qual o tipo de combustível? (Digite A para álcool e G para gasolina) ').lower()\n",
    "\n",
    "if tipo == 'a':\n",
    "  if nlitros <= 20:\n",
    "    valor = nlitros * 3.4 - nlitros * 0.03\n",
    "  else:\n",
    "    valor = nlitros * 3.4 - nlitros * 0.05\n",
    "else:\n",
    "  if nlitros <= 20:\n",
    "    valor = nlitros * 4.5 - nlitros * 0.04\n",
    "  else:\n",
    "    valor = nlitros * 4.5 - nlitros * 0.06\n",
    "\n",
    "print('O valor a ser pago é R$',valor)"
   ]
  },
  {
   "cell_type": "markdown",
   "metadata": {},
   "source": [
    "\n",
    "15.  Uma fruteira está vendendo frutas com a seguinte tabela de preços:\n",
    "\n",
    "|         |    Até 5 Kg    |  Acima de 5 Kg |\n",
    "| ------- | -------------- | -------------- |\n",
    "| Morango | R$ 2,50 por Kg | R$ 2,20 por Kg |\n",
    "| Maçã    | R$ 1,80 por Kg | R$ 1,50 por Kg |\n",
    "\n",
    "Se o cliente comprar mais de 8 Kg em frutas ou o valor total da compra ultrapassar R$ 25,00, receberá ainda um desconto de 10% sobre este total. Escreva um algoritmo para ler a quantidade (em Kg) de morangos e a quantidade (em Kg) de maças adquiridas e escreva o valor a ser pago pelo cliente."
   ]
  },
  {
   "cell_type": "code",
   "execution_count": null,
   "metadata": {},
   "outputs": [],
   "source": [
    "def maca(kg):\n",
    "  if kg > 5:\n",
    "    total = 1.5 * kg\n",
    "    return total\n",
    "  else:\n",
    "    total =  1.8 * kg\n",
    "    return total\n",
    "\n",
    "def morango(kg):\n",
    "  if kg > 5:\n",
    "    total = 2.2 * kg\n",
    "    return total\n",
    "  else:\n",
    "    total = 2.5 * kg\n",
    "    return total\n",
    "\n",
    "macas = float(input('Quantos quilos de maçã você deseja? '))\n",
    "morangos = float(input('E quantos quilos de morango? '))\n",
    "totalkg = maca(macas) + morango(morangos)\n",
    "if macas + morangos > 8 or totalkg > 25:\n",
    "  totalkg = totalkg - totalkg * 0.1\n",
    "print('O valor a ser pago é R$',totalkg)"
   ]
  }
 ],
 "metadata": {
  "language_info": {
   "name": "python"
  }
 },
 "nbformat": 4,
 "nbformat_minor": 2
}
