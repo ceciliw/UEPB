{
 "cells": [
  {
   "cell_type": "markdown",
   "metadata": {},
   "source": [
    "### Listas/Vetores\n",
    "**As questões a seguir devem ser respondidas sem uso dos métodos de listas do Python.**"
   ]
  },
  {
   "cell_type": "markdown",
   "metadata": {},
   "source": [
    "1. Faça um programa que possua uma lista denominada A que armazene 6 números\n",
    "inteiros. O programa deve executar os seguintes passos:\n",
    "- Atribua os seguintes valores a essa lista: 1, 0, 5, -2, -5, 7.\n",
    "- Armazene em uma variável inteira (simples) a soma entre os valores das posições A[0], A[1] e A[5] da lista e mostre na tela esta soma.\n",
    "- Modifique a lista na posição 4, atribuindo a esta posição o valor 100.\n",
    "- Mostre na tela cada valor da lista A, um em cada linha."
   ]
  },
  {
   "cell_type": "code",
   "execution_count": null,
   "metadata": {},
   "outputs": [],
   "source": []
  },
  {
   "cell_type": "markdown",
   "metadata": {},
   "source": [
    "2. Ler um conjunto de números reais, armazenando-o em vetor e calcular o quadrado das componentes deste vetor, armazenando o resultado em outro vetor. Os conjuntos têm 10 elementos cada. Imprimir todos os conjuntos."
   ]
  },
  {
   "cell_type": "code",
   "execution_count": null,
   "metadata": {},
   "outputs": [],
   "source": [
    "n = [0] * 5\n",
    "n2 = [0] * 5\n",
    "for i in range(5):\n",
    "  print('Valor ',i+1,': ',sep='',end='')\n",
    "  n[i] = int(input())\n",
    "  n2[i] = n[i]**2\n",
    "print('Lista:',*n,'\\nLista de quadrados:',*n2)"
   ]
  },
  {
   "cell_type": "markdown",
   "metadata": {},
   "source": [
    "3. Leia um vetor de 10 posições. Contar e escrever quantos valores pares ele possui."
   ]
  },
  {
   "cell_type": "code",
   "execution_count": null,
   "metadata": {},
   "outputs": [],
   "source": [
    "cont = 0\n",
    "vetor = [0] * 10\n",
    "for i in range(10):\n",
    "  print('Valor ',i,': ',sep='',end='')\n",
    "  vetor[i] = int(input())\n",
    "  if vetor[i] % 2 == 0:\n",
    "    cont += 1\n",
    "if cont == 1:\n",
    "  print('Essa lista possui 1 número par')\n",
    "elif cont == 0:\n",
    "  print('Essa lista não possui nenhum número par')\n",
    "else:\n",
    "  print('Essa lista possui',cont,'números pares')"
   ]
  },
  {
   "cell_type": "markdown",
   "metadata": {},
   "source": [
    "4. Escreva um programa que leia 10 números inteiros e os armazene em um vetor. Imprima o vetor, o maior elemento e a posição que ele se encontra."
   ]
  },
  {
   "cell_type": "code",
   "execution_count": null,
   "metadata": {},
   "outputs": [],
   "source": [
    "maior = 0\n",
    "vetor = [0] * 11\n",
    "for i in range(1,11):\n",
    "  print('Valor ',i,': ',sep='',end='')\n",
    "  vetor[i] = int(input())\n",
    "  if vetor[i] > maior: #pensar se forem todos negativos, colocar maior = vetor[0] e dps fazer outro for\n",
    "    posicao = i\n",
    "    maior = vetor[i]\n",
    "print('O maior valor é {} e está na posição {}'.format(maior,posicao))"
   ]
  },
  {
   "cell_type": "markdown",
   "metadata": {},
   "source": [
    "5. Deseja-se publicar o número de acertos de cada aluno em uma prova em forma de testes. A prova consta de 10 questões, cada uma com cinco alternativas identificadas por A, B, C, D e E. Para isso são dados:\n",
    "- o cartão gabarito;\n",
    "- o número de alunos da turma;\n",
    "- o cartão de respostas para cada aluno, contendo o seu número e suas respostas."
   ]
  },
  {
   "cell_type": "code",
   "execution_count": null,
   "metadata": {},
   "outputs": [],
   "source": [
    "#!!!\n",
    "tam = 3\n",
    "gabarito = [0] * tam\n",
    "for i in range(tam):\n",
    "  print('Resposta da questão ',i+1,': ',sep='',end='')\n",
    "  gabarito[i] = input().lower()\n",
    "\n",
    "nalun = int(input('\\nNúmero de alunos na turma: '))\n",
    "numdoal  = [0] * nalun\n",
    "nacer = [0] * nalun\n",
    "raluno = [0] * tam\n",
    "for a in range(nalun):\n",
    "  print('\\nALUNO ',a+1,sep='')\n",
    "  numdoal[a] = a\n",
    "  cont = 0\n",
    "  for i in range(tam):\n",
    "    print('Questão ',i+1,': ',sep='',end='')\n",
    "    raluno[i] = input().lower()\n",
    "    if raluno[i] == gabarito[i]:\n",
    "      cont += 1\n",
    "  nacer[a] = cont\n",
    "print()\n",
    "for i in range(nalun):\n",
    "  print('Número de acertos do aluno ',numdoal[i]+1,': ',nacer[i],sep='')"
   ]
  },
  {
   "cell_type": "markdown",
   "metadata": {},
   "source": [
    "6. Ler um vetor de 10 elementos. Crie um segundo vetor, com todos os elementos na ordem inversa, ou seja, o último elemento passará a ser o primeiro, o penúltimo será o segundo e assim por diante. Imprima os dois vetores."
   ]
  },
  {
   "cell_type": "code",
   "execution_count": null,
   "metadata": {},
   "outputs": [],
   "source": [
    "tam = 4\n",
    "vetor1 = [0] * tam\n",
    "for i in range(tam):\n",
    "  print('Elemento ',i+1,':',sep='',end=' ')\n",
    "  vetor1[i] = input()\n",
    "print('Lista: ',*vetor1)\n",
    "vetor1.reverse()\n",
    "print('Lista invertida:',*vetor1)"
   ]
  },
  {
   "cell_type": "markdown",
   "metadata": {},
   "source": [
    "7. Faça um programa que leia e monte dois vetores de números inteiros com 20 números cada. Depois de montados gere um terceiro vetor formado pela diferença dos dois vetores lidos, um quarto vetor formado pela soma dos dois vetores lidos e por último um quinto vetor\n",
    "formado pela multiplicação dos dois vetores lidos.\n"
   ]
  },
  {
   "cell_type": "code",
   "execution_count": null,
   "metadata": {},
   "outputs": [],
   "source": [
    "tam = 3\n",
    "def lista(lista):\n",
    "  for i in range(tam):\n",
    "    print('Valor ',i+1,': ',sep='',end='')\n",
    "    lista[i] = int(input())\n",
    "\n",
    "l1 = [0] * tam\n",
    "l2 = [0] * tam\n",
    "soma = [0] * tam\n",
    "sub = [0] * tam\n",
    "mul = [0] * tam\n",
    "print('---Lista 1---')\n",
    "lista(l1)\n",
    "print('\\n---Lista 2---')\n",
    "lista(l2)\n",
    "for i in range(tam):\n",
    "  soma[i] = l1[i] + l2[i]\n",
    "  sub[i] = l1[i] - l2[i]\n",
    "  mul[i] = l1[i] * l2[i]\n",
    "print('\\nLista da soma: {}\\nLista da diferença: {}\\nLista da multiplicação: {}'.format(soma,sub,mul))"
   ]
  },
  {
   "cell_type": "markdown",
   "metadata": {},
   "source": [
    "8. Dadas duas listas de tamanho N, faça um programa que diga se as mesmas possuem conteúdo igual."
   ]
  },
  {
   "cell_type": "code",
   "execution_count": null,
   "metadata": {},
   "outputs": [],
   "source": [
    "def lista(lista,tam):\n",
    "  for i in range(tam):\n",
    "    print(i+1,'º valor: ',sep='',end='')\n",
    "    lista.append(int(input()))\n",
    "\n",
    "tam = int(input('Tamanho das listas: '))\n",
    "print('Lista 1:')\n",
    "lista1 = []\n",
    "lista(lista1,tam)\n",
    "print('\\nLista 2:')\n",
    "lista2 = []\n",
    "lista(lista2,tam)\n",
    "\n",
    "if lista1 == lista2:\n",
    "    print('\\nSão iguais')\n",
    "else:\n",
    "  print('\\nSão diferentes')"
   ]
  },
  {
   "cell_type": "markdown",
   "metadata": {},
   "source": [
    "9. Faça um programa que leia uma quantidade de números determinada pelo usuário e armazene em uma lista. Crie outras duas listas, uma para os valores pares e outra para os ímpares."
   ]
  },
  {
   "cell_type": "code",
   "execution_count": null,
   "metadata": {},
   "outputs": [],
   "source": [
    "def parimpar(n):\n",
    "  if n % 2 == 0:\n",
    "    return True\n",
    "  return False\n",
    "\n",
    "quant = int(input('Quantos valores? '))\n",
    "pares = impares = 0\n",
    "lista1 = [0] * quant\n",
    "for i in range(quant):\n",
    "  lista1[i] = int(input('Valor: '))\n",
    "listapar = []\n",
    "listaimpar = []\n",
    "for i in lista1:\n",
    "  if parimpar(i):\n",
    "    listapar += [i]\n",
    "  else:\n",
    "    listaimpar += [i]\n",
    "print('\\nPares:',*listapar,'\\nÍmpares:',*listaimpar)"
   ]
  },
  {
   "cell_type": "markdown",
   "metadata": {},
   "source": [
    "10. Faça um programa que leia um vetor de 10 posições e verifique se existem valores repetidos e os escreva na tela."
   ]
  },
  {
   "cell_type": "code",
   "execution_count": null,
   "metadata": {},
   "outputs": [],
   "source": [
    "# "
   ]
  },
  {
   "cell_type": "code",
   "execution_count": null,
   "metadata": {},
   "outputs": [],
   "source": [
    "lista = [1,4,2,5]\n",
    "print(lista[-1])"
   ]
  }
 ],
 "metadata": {
  "kernelspec": {
   "display_name": "Python 3",
   "language": "python",
   "name": "python3"
  },
  "language_info": {
   "codemirror_mode": {
    "name": "ipython",
    "version": 3
   },
   "file_extension": ".py",
   "mimetype": "text/x-python",
   "name": "python",
   "nbconvert_exporter": "python",
   "pygments_lexer": "ipython3",
   "version": "3.12.3"
  }
 },
 "nbformat": 4,
 "nbformat_minor": 2
}
