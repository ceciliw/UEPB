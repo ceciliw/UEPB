{
 "cells": [
  {
   "cell_type": "markdown",
   "metadata": {},
   "source": [
    "### Laços"
   ]
  },
  {
   "cell_type": "markdown",
   "metadata": {},
   "source": [
    "1. Implemente um programa que exiba a tabuada do 2 ao 9."
   ]
  },
  {
   "cell_type": "code",
   "execution_count": null,
   "metadata": {},
   "outputs": [],
   "source": [
    "for i in range(2,10):\n",
    "  print('-------------\\nTabuada do ',i,': \\n-------------',sep='')\n",
    "  for o in range(1,11):\n",
    "    print(i,'x',o,'=',i*o)"
   ]
  },
  {
   "cell_type": "markdown",
   "metadata": {},
   "source": [
    "2. Faça um programa para tabular a função: f(x, y) = (x4 +3xy+y3 )/(2xy+3x+4y+2) para x = 2, 4, 6, 8 e y = 1, 3, 5, 7, 9, para cada valor de x. Devem ser impressos os valores de x, de y e de f(x,y)."
   ]
  },
  {
   "cell_type": "code",
   "execution_count": null,
   "metadata": {},
   "outputs": [],
   "source": [
    "#f(x, y) = (x4 +3xy+y3 )/(2xy+3x+4y+2)\n",
    "\n",
    "for x in range(2,9,2):\n",
    "  for y in range(1,10,2):\n",
    "    print('f(',x,',',y,') = ',(x**4 + 3*x*y + y**3) / (2*x*y + 3*x + 4*y +2),sep='')"
   ]
  },
  {
   "cell_type": "markdown",
   "metadata": {},
   "source": [
    "Para as questões 3 a 7, rode o programa a seguir:\n",
    "\n",
    "```\n",
    "ch = input(\"Caractere: \")\n",
    "for linha in range(8):\n",
    "    for coluna in range(8):\n",
    "        if (linha + coluna) % 2 == 0:\n",
    "            print(ch, ch, sep = '', end = '')\n",
    "        else:\n",
    "            print(' ', sep = '', end = '')\n",
    "    print()\n",
    "```\n",
    "\n",
    "Procure entender a lógica deste programa e, em seguida, partindo do mesmo, implemente:"
   ]
  },
  {
   "cell_type": "code",
   "execution_count": null,
   "metadata": {},
   "outputs": [],
   "source": [
    "ch = input(\"Caractere: \")\n",
    "for linha in range(8):\n",
    "    for coluna in range(8):\n",
    "        if (linha + coluna) % 2 == 0:\n",
    "            print(ch, ch, sep = '', end = '')\n",
    "        else:\n",
    "            print(' ', sep = '', end = '')\n",
    "    print()"
   ]
  },
  {
   "cell_type": "markdown",
   "metadata": {},
   "source": [
    "3. Um programa que desenhe um quadrado totalmente preenchido, como a seguir:\n",
    "```\n",
    "********\n",
    "********\n",
    "********\n",
    "********\n",
    "```"
   ]
  },
  {
   "cell_type": "code",
   "execution_count": null,
   "metadata": {},
   "outputs": [],
   "source": [
    "ch = input(\"Caractere: \")\n",
    "for linha in range(5):\n",
    "    for coluna in range(5):\n",
    "      print(ch, ch, sep = '', end = '')\n",
    "    print()"
   ]
  },
  {
   "cell_type": "markdown",
   "metadata": {},
   "source": [
    "4. Um programa que desenhe a diagonal principal do quadrado, como a seguir:\n",
    "```\n",
    "**      \n",
    "  **    \n",
    "    **  \n",
    "      **\n",
    "```"
   ]
  },
  {
   "cell_type": "code",
   "execution_count": null,
   "metadata": {},
   "outputs": [],
   "source": [
    "# 00 01 02 03 04 05 06 07\n",
    "# 10 11 12 13 14 15 16 17\n",
    "# 20 21 22 23 24 25 26 27\n",
    "# 30 31 32 33 34 35 36 37\n",
    "# 40 41 42 43 44 45 46 47\n",
    "# 50 51 52 53 54 55 56 57\n",
    "# 60 61 62 63 64 65 66 67\n",
    "# 70 71 72 73 74 75 76 77\n",
    "\n",
    "ch = input(\"Caractere: \")\n",
    "for linha in range(5):\n",
    "    for coluna in range(5):\n",
    "        if linha == coluna:\n",
    "            print(ch, ch, sep = '', end = '')\n",
    "        else:\n",
    "            print('  ', sep = '', end = '')\n",
    "    print()"
   ]
  },
  {
   "cell_type": "markdown",
   "metadata": {},
   "source": [
    "5) Um programa que desenhe a diagonal principal e a diagonal secundária do quadrado, como a seguir:\n",
    "```\n",
    "**    **\n",
    "  ****  \n",
    "  ****  \n",
    "**    **\n",
    "```"
   ]
  },
  {
   "cell_type": "code",
   "execution_count": null,
   "metadata": {},
   "outputs": [],
   "source": [
    "ch = input(\"Caractere: \")\n",
    "tam = 5\n",
    "for linha in range(tam):\n",
    "    for coluna in range(tam):\n",
    "        if linha == coluna or linha + coluna == tam-1:\n",
    "            print(ch, ch, sep = '', end = '')\n",
    "        else:\n",
    "            print('  ', sep = '', end = '')\n",
    "    print()"
   ]
  },
  {
   "cell_type": "markdown",
   "metadata": {},
   "source": [
    "6. Um programa que desenhe um triângulo retângulo com a base voltada para baixo, como a seguir:\n",
    "```\n",
    "*    \n",
    "**   \n",
    "***  \n",
    "**** \n",
    "*****\n",
    "```"
   ]
  },
  {
   "cell_type": "code",
   "execution_count": null,
   "metadata": {},
   "outputs": [],
   "source": [
    "ch = input(\"Caractere: \")\n",
    "print(ch)\n",
    "for linha in range(8):\n",
    "    for coluna in range(8):\n",
    "        if linha >= coluna:\n",
    "            print(ch, ch, sep = '', end = '')\n",
    "        else:\n",
    "            print('  ', sep = '', end = '')\n",
    "    print()"
   ]
  },
  {
   "cell_type": "markdown",
   "metadata": {},
   "source": [
    "7. Um programa que desenhe um triângulo retângulo com a base voltada para cima, como a seguir:\n",
    "```\n",
    "*****\n",
    "**** \n",
    "***  \n",
    "**   \n",
    "*    \n",
    "```"
   ]
  },
  {
   "cell_type": "code",
   "execution_count": null,
   "metadata": {},
   "outputs": [],
   "source": [
    "tam = 8\n",
    "ch = input(\"Caractere: \")\n",
    "for linha in range(tam):\n",
    "    for coluna in range(tam):\n",
    "        if linha + coluna < tam:\n",
    "            print(ch, ch, sep = '', end = '')\n",
    "        else:\n",
    "            print('  ', sep = '', end = '')\n",
    "    print()\n",
    "print(ch)"
   ]
  },
  {
   "cell_type": "markdown",
   "metadata": {},
   "source": [
    "8. Crie um algoritmo que simule o funcionamento de um caixa de supermercado. O caixa fica aberto até o fim do expediente e pode processar a compra de vários clientes. \n",
    "\n",
    "    Cada cliente pode comprar vários itens. Ao ler cada item deve ser exibida uma mensagem para o operador do caixa perguntando se há mais itens a serem processados. Ao final, exiba quanto a compra custou ao cliente. E então solicite do operador do caixa a informação se deseja fechar o caixa.\n",
    "\n",
    "    Quando o caixa for fechado, exiba quanto de dinheiro aquele caixa apurou no dia."
   ]
  },
  {
   "cell_type": "code",
   "execution_count": null,
   "metadata": {},
   "outputs": [],
   "source": [
    "print('---- CAIXA ----')\n",
    "caixa = 'não'\n",
    "total = soma = 0\n",
    "while caixa != 'sim':\n",
    "  soma = 0\n",
    "  itens = 'sim'\n",
    "  while itens == 'sim':\n",
    "    item = float(input('Valor do item: R$'))\n",
    "    soma +=  item\n",
    "    itens = input('Ainda há itens? ').lower()\n",
    "    if itens != 'sim':\n",
    "      print('Valor total = R$',soma)\n",
    "    total += soma\n",
    "  caixa = input('Deseja fechar o caixa? ').lower()\n",
    "print('Valor apurado hoje: R$',total)"
   ]
  },
  {
   "cell_type": "code",
   "execution_count": 2,
   "metadata": {},
   "outputs": [
    {
     "name": "stdout",
     "output_type": "stream",
     "text": [
      "20 / 2 = 10\n",
      "10 / 3 = 3\n",
      "3 / 5 = 0\n",
      "0 / 7 = 0\n",
      "0 / 11 = 0\n",
      "0 / 13 = 0\n",
      "0 / 17 = 0\n",
      "0 / 19 = 0\n"
     ]
    }
   ],
   "source": [
    "#FAZER FATORAÇÃO\n",
    "\n",
    "def primo(n):\n",
    "  for i in range(2,n):\n",
    "    if n % i == 0:\n",
    "      return False\n",
    "  return True\n",
    "\n",
    "#while\n",
    "num = int(input())\n",
    "for i in range(2,num):\n",
    "  if primo(i):\n",
    "    print('{} / {} = '.format(num,i),end='')\n",
    "    num //= i\n",
    "    print(num)"
   ]
  }
 ],
 "metadata": {
  "kernelspec": {
   "display_name": "Python 3",
   "language": "python",
   "name": "python3"
  },
  "language_info": {
   "codemirror_mode": {
    "name": "ipython",
    "version": 3
   },
   "file_extension": ".py",
   "mimetype": "text/x-python",
   "name": "python",
   "nbconvert_exporter": "python",
   "pygments_lexer": "ipython3",
   "version": "3.12.3"
  }
 },
 "nbformat": 4,
 "nbformat_minor": 2
}
