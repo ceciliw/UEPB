{
 "cells": [
  {
   "cell_type": "markdown",
   "metadata": {},
   "source": [
    "### Entrada/Saída, Variáveis, Operadores"
   ]
  },
  {
   "cell_type": "markdown",
   "metadata": {},
   "source": [
    "1. Faça um programa que solicite ao usuário o valor do litro de combustível (ex. 4,75) e quanto em dinheiro ele deseja abastecer (ex. 50,00). Calcule quantos litros de combustível o usuário obterá com esses valores."
   ]
  },
  {
   "cell_type": "code",
   "execution_count": null,
   "metadata": {},
   "outputs": [],
   "source": [
    "valorlitro = float(input('Qual o valor do litro de combustível? '))\n",
    "dinheiro = float(input('Quanto em dinheiro você deseja abastecer? '))\n",
    "litros = dinheiro / valorlitro\n",
    "print('Você poderá abastecer',litros,'litros')"
   ]
  },
  {
   "cell_type": "markdown",
   "metadata": {},
   "source": [
    "2. Faça um programa que calcule a média de consumo (em km/l) de combustível de um veículo. O usuário deve informar o KM inicial (ex. 12500 km), o KM final (ex. 12700 km) e quantos litros foram gastos no percurso."
   ]
  },
  {
   "cell_type": "code",
   "execution_count": null,
   "metadata": {},
   "outputs": [],
   "source": [
    "km_inicial = float(input('Qual foi o seu quilômetro inicial? '))\n",
    "km_final= float(input('Qual foi o seu quilômetro final? '))\n",
    "litros = float(input('Quantos litros foram gastos no percurso? '))\n",
    "media = (km_final - km_inicial) / litros\n",
    "print('Sua média de km/l foi',media)"
   ]
  },
  {
   "cell_type": "markdown",
   "metadata": {},
   "source": [
    "3. Faça um programa que calcule o valor a ser pago por uma dívida em atraso. O usuário deve informar o valor original da dívida (ex. R$ 50,00), a quantidade de dias em atraso (ex.35 dias) e o valor da multa por dia de atraso (ex. R$ 0,25)."
   ]
  },
  {
   "cell_type": "code",
   "execution_count": null,
   "metadata": {},
   "outputs": [],
   "source": [
    "valor_original = float(input('Qual o valor original da sua dívida? '))\n",
    "quant_dias = int(input('Há quantos dias ela está atrasada? '))\n",
    "valor_dia = float(input('Qual o valor da multa por dia? '))\n",
    "valor_total = valor_original + quant_dias * valor_dia\n",
    "print('O valor que você deve agora é',valor_total,'reais')"
   ]
  },
  {
   "cell_type": "markdown",
   "metadata": {},
   "source": [
    "4. Faça um programa que calcule a área total (m2) de uma casa com 4 cômodos. O usuário deve inserir a largura e comprimento de cada um dos cômodos, calcular a área individual de cada um e por fim exibir a área total da casa."
   ]
  },
  {
   "cell_type": "code",
   "execution_count": null,
   "metadata": {},
   "outputs": [],
   "source": [
    "def area(l,c):\n",
    "  area = l * c\n",
    "  return area\n",
    "\n",
    "area1 = 0\n",
    "for i in range(1,5):\n",
    "  largura = float(input('Qual a largura do cômodo? '))\n",
    "  comprimento = float(input('Qual o comprimento do cômodo? '))\n",
    "  area_total = area(largura,comprimento)\n",
    "  area1 = area_total + area1\n",
    "print('A área total da casa é',area1,'m^2')"
   ]
  },
  {
   "cell_type": "markdown",
   "metadata": {},
   "source": [
    "5. Faça um programa que calcule a conversão monetária de Real para Dólar. O usuário informa o valor da cotação do dólar (ex.: 3,78) e quanto em real deseja converter (ex.150,00). O programa exibe quantos dólares valem os reais informados."
   ]
  },
  {
   "cell_type": "code",
   "execution_count": null,
   "metadata": {},
   "outputs": [],
   "source": [
    "valor_dolar = float(input('Qual o valor da cotação do dólar? '))\n",
    "valor_converter = float(input('Quanto em real você deseja converter? '))\n",
    "dolares = valor_converter / valor_dolar\n",
    "print('Você possui',dolares,'dolares')"
   ]
  },
  {
   "cell_type": "markdown",
   "metadata": {},
   "source": [
    "6. Faça um programa que calcula o novo valor do salário de um funcionário. O usuário informa o salário atual (ex. 1250,00) e o percentual do reajuste (ex. 13,5 %)."
   ]
  },
  {
   "cell_type": "code",
   "execution_count": null,
   "metadata": {},
   "outputs": [],
   "source": [
    "salario_atual = float(input('Qual o seu salário atual? '))\n",
    "percentual = float(input('Qual o percentual de reajuste? '))\n",
    "novo_salario = salario_atual + salario_atual * percentual / 100\n",
    "print('O valor do seu novo salário é',novo_salario,'reais')"
   ]
  },
  {
   "cell_type": "markdown",
   "metadata": {},
   "source": [
    "7. Faça um programa que calcula o tempo (em anos) que uma pessoa irá demorar para poupar R$ 1.000.000,00 (Um Milhão de Reais). O usuário informa o salário mensal e o total de despesas mensais."
   ]
  },
  {
   "cell_type": "code",
   "execution_count": null,
   "metadata": {},
   "outputs": [],
   "source": [
    "salario = float(input('Qual o seu salário mensal? '))\n",
    "despesas = float(input('Qual o valor das suas dívidas mensais? '))\n",
    "anos = 1000000 / ((salario - despesas) * 12)\n",
    "print('Você obterá 1 milhão de reais em',round(anos,2),'anos')"
   ]
  },
  {
   "cell_type": "markdown",
   "metadata": {},
   "source": [
    "8. Faça um programa que leia um valor inteiro e mostre na tela uma sequência incluindo os dois números que vem antes, o número digitado, e os dois números que vem depois dele. Ex.: digitou 5; o programa mostra 3 4 5 6 7."
   ]
  },
  {
   "cell_type": "code",
   "execution_count": null,
   "metadata": {},
   "outputs": [],
   "source": [
    "v = int(input('Insira um valor: '))\n",
    "print(v-2, v-1, v, v+1, v+2)"
   ]
  },
  {
   "cell_type": "markdown",
   "metadata": {},
   "source": [
    "9. Crie um programa que pergunta o nome do usuário e o ano de nascimento do usuário e calcula qual idade ele tem (ou terá, se ainda não fez aniversário neste ano). Ex.: Nome = Carlos, Ano = 1999. O programa mostra a mensagem: “Carlos tem 20 anos”."
   ]
  },
  {
   "cell_type": "code",
   "execution_count": null,
   "metadata": {},
   "outputs": [],
   "source": [
    "nome = input('Qual o seu nome? ')\n",
    "ano = int(input('Em que ano você nasceu? '))\n",
    "idade = 2022 - ano\n",
    "print(nome,'tem/fará',idade,'anos em 2022')"
   ]
  },
  {
   "cell_type": "markdown",
   "metadata": {},
   "source": [
    "10. Faça um programa que receba as dimensões de uma sala de aula (comprimento e largura) e as dimensões de uma carteira. Considerando que:\n",
    "- Entre duas fileiras deve haver 0,5 m de espaço;\n",
    "- Entre duas cadeiras na mesma fileira deve haver 0,2 m de espaço;\n",
    "- Deve ser reservada ao professor um espaço de 1,5 m de comprimento;\n",
    "  \n",
    "    Calcule quantas carteiras cabem na sala de aula."
   ]
  },
  {
   "cell_type": "code",
   "execution_count": null,
   "metadata": {},
   "outputs": [],
   "source": [
    "def area(c,l):\n",
    "  area = c * l\n",
    "  return area\n",
    "\n",
    "larg_sala = float(input('Forneça a largura da sala: '))\n",
    "comp_sala = float(input('Forneça o comprimento da sala: '))\n",
    "larg_cart = float(input('Forneça a largura da carteira: '))\n",
    "comp_cart = float(input('Forneça comprimento da carteira: '))\n",
    "\n",
    "largura = (larg_sala + 0.5) // (larg_cart + 0.5)\n",
    "comprimento = (comp_sala - 1.5 + 0.2) // (comp_cart + 0.2)\n",
    "qcarteiras = int(largura * comprimento)\n",
    "print('Cabem',qcarteiras,'carteiras na sala')"
   ]
  }
 ],
 "metadata": {
  "language_info": {
   "name": "python"
  }
 },
 "nbformat": 4,
 "nbformat_minor": 2
}
