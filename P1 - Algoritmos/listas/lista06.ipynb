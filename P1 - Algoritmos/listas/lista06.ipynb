{
 "cells": [
  {
   "cell_type": "markdown",
   "metadata": {},
   "source": [
    "### Listas/Matrizes"
   ]
  },
  {
   "cell_type": "markdown",
   "metadata": {},
   "source": [
    "**FAZER BLOCOS DE CODIGO COM APENAS UMA FUNCIONALIDADE**"
   ]
  },
  {
   "cell_type": "markdown",
   "metadata": {},
   "source": [
    "1. Leia uma matriz 4 x 4, conte e escreva quantos valores maiores que 10 ela possui."
   ]
  },
  {
   "cell_type": "code",
   "execution_count": null,
   "metadata": {},
   "outputs": [],
   "source": [
    "tam = 4\n",
    "mat = []\n",
    "for i in range(tam):\n",
    "  mat.append([0]*tam)\n",
    "\n",
    "for l in range(tam):\n",
    "  for c in range(tam):\n",
    "    print('(',l+1,',',c+1,') : ',end='',sep='')\n",
    "    mat[l][c] = int(input()) #da pra variar o input com format\n",
    "\n",
    "cont = 0\n",
    "print('\\nElementos maiores que 10: ',end='') #n combina com as condicionais\n",
    "for l in range(tam):\n",
    "  for c in range(tam):\n",
    "    if mat[l][c] > 10:\n",
    "      cont += 1\n",
    "      print(mat[l][c],end=' ')\n",
    "\n",
    "if cont > 1:\n",
    "  print('\\nNa matriz existem',cont,'números maiores que 10')\n",
    "elif cont == 1:\n",
    "  print('\\nNa matriz existe 1 número maior que 10')\n",
    "else:\n",
    "  print('\\nNa matriz não existe nenhum número maior que 10')"
   ]
  },
  {
   "cell_type": "markdown",
   "metadata": {},
   "source": [
    "2. Leia uma matriz 5 x 5. Leia também um valor X. O programa deverá fazer uma busca desse valor na matriz e, ao final, escrever a localização (linha e coluna) ou uma mensagem de “não encontrado”."
   ]
  },
  {
   "cell_type": "code",
   "execution_count": null,
   "metadata": {},
   "outputs": [],
   "source": [
    "tam = 5\n",
    "mat = []\n",
    "for i in range(tam):\n",
    "  mat.append([0]*tam)\n",
    "\n",
    "for l in range(tam):\n",
    "  for c in range(tam):\n",
    "    mat[l][c] = int(input())\n",
    "\n",
    "x = int(input('Digite o valor: '))\n",
    "encontrado = False #pode-se usar um cont, mas booleano é melhor, feito na aula de ricardo\n",
    "for l in range(tam):\n",
    "  for c in range(tam):\n",
    "    if mat[l][c] == x:\n",
    "      print('O valor está na linha',l+1,'e na coluna',c+1)\n",
    "      encontrado = True\n",
    "if not encontrado:\n",
    "  print('Não encontrado')"
   ]
  },
  {
   "cell_type": "markdown",
   "metadata": {},
   "source": [
    "3. Leia duas matrizes 4 x 4 e escreva uma terceira com os maiores valores de cada posição das matrizes lidas."
   ]
  },
  {
   "cell_type": "code",
   "execution_count": null,
   "metadata": {},
   "outputs": [],
   "source": [
    "tam = 4\n",
    "def lermatriz(matriz):\n",
    "  for l in range(tam):\n",
    "    for c in range(tam):\n",
    "      print('(',l+1,',',c+1,'): ',end='',sep='')\n",
    "      matriz[l][c] = int(input())\n",
    "\n",
    "mat1 = []\n",
    "mat2 = []\n",
    "mat3 = [] #ou eu posso utilizar uma das matrizes ja feitas\n",
    "\n",
    "for i in range(tam):\n",
    "  mat1.append([0]*tam)\n",
    "  mat2.append([0]*tam)\n",
    "  mat3.append([0]*tam)\n",
    "print('Preencha a primeira matriz:')\n",
    "lermatriz(mat1)\n",
    "print('\\nPreencha a segunda matriz: ')\n",
    "lermatriz(mat2)\n",
    "\n",
    "for l in range(tam):\n",
    "  for c in range(tam):\n",
    "    if mat1[l][c] > mat2[l][c]:\n",
    "      mat3[l][c] = mat1[l][c]\n",
    "    else:\n",
    "      mat3[l][c] = mat2[l][c]\n",
    "print('\\nMatriz final:')\n",
    "for i in range(tam):\n",
    "  for j in range(tam):\n",
    "    print(mat3[i][j],end=' ')\n",
    "  print()"
   ]
  },
  {
   "cell_type": "markdown",
   "metadata": {},
   "source": [
    "4. Gerar e imprimir uma matriz de tamanho 10 x 10, onde seus elementos são da forma:\n",
    "    \n",
    "    a. A[i][j] = 2i + 7j − 2 se i < j;\n",
    "\n",
    "    b. A[i][j] = 3i2 − 1 se i = j;\n",
    "\n",
    "    c. A[i][j] = 4i3 − 5j2 + 1 se i > j."
   ]
  },
  {
   "cell_type": "code",
   "execution_count": null,
   "metadata": {},
   "outputs": [],
   "source": [
    "ord = 10\n",
    "mat = []\n",
    "for i in range(ord):\n",
    "  mat.append([0]*ord)\n",
    "\n",
    "for l in range(ord):\n",
    "  for c in range(ord):\n",
    "    if l < c:\n",
    "      mat[l][c] = 2*l + 7*c - 2\n",
    "    elif l == c:\n",
    "      mat[l][c] = 3*l**2 - 1\n",
    "    else:\n",
    "      mat[l][c] = 4*l**3 - 5*c**2 + 1\n",
    "\n",
    "for l in range(ord):\n",
    "  for c in range(ord):\n",
    "    print(mat[l][c],end=' ')\n",
    "  print()"
   ]
  },
  {
   "cell_type": "markdown",
   "metadata": {},
   "source": [
    "5. Leia uma matriz de ordem n, informada pelo usuário. Calcule a soma dos elementos que estão acima da diagonal principal."
   ]
  },
  {
   "cell_type": "code",
   "execution_count": null,
   "metadata": {},
   "outputs": [],
   "source": [
    "ord = int(input('Informe a ordem da matriz: '))\n",
    "mat = []\n",
    "for i in range(ord):\n",
    "  mat.append([0]*ord)\n",
    "\n",
    "print('\\nPreencha a matriz:')\n",
    "for l in range(ord):\n",
    "  for c in range(ord):\n",
    "    print('(',l+1,',',c+1,'): ',sep='',end='')\n",
    "    mat[l][c] = int(input())\n",
    "soma = 0\n",
    "for l in range(ord):\n",
    "  for c in range(ord):\n",
    "    if l < c:\n",
    "      soma += mat[l][c]\n",
    "print('\\nO resultado da soma é',soma)"
   ]
  },
  {
   "cell_type": "markdown",
   "metadata": {},
   "source": [
    "6. Leia uma matriz de ordem n, informada pelo usuário. Calcule a soma dos elementos que estão abaixo da diagonal principal."
   ]
  },
  {
   "cell_type": "code",
   "execution_count": null,
   "metadata": {},
   "outputs": [],
   "source": [
    "ord = int(input('Informe o tamanho da matriz: '))\n",
    "mat = []\n",
    "for i in range(ord):\n",
    "  mat.append([0]*ord)\n",
    "\n",
    "print('\\nPreencha a matriz:')\n",
    "for l in range(ord):\n",
    "  for c in range(ord):\n",
    "    print('(',l+1,',',c+1,'): ',sep='',end='')\n",
    "    mat[l][c] = int(input())\n",
    "soma = 0\n",
    "for l in range(ord):\n",
    "  for c in range(ord):\n",
    "    if l > c:\n",
    "      soma += mat[l][c]\n",
    "print('\\nO resultado da soma é',soma)"
   ]
  },
  {
   "cell_type": "markdown",
   "metadata": {},
   "source": [
    "7. Leia uma matriz de ordem n, informada pelo usuário. Calcule a soma dos elementos que estão na diagonal secundária."
   ]
  },
  {
   "cell_type": "code",
   "execution_count": null,
   "metadata": {},
   "outputs": [],
   "source": [
    "ord = int(input('Informe o tamanho da matriz: '))\n",
    "mat = []\n",
    "for i in range(ord):\n",
    "  mat.append([0]*ord)\n",
    "\n",
    "print('\\nPreencha a matriz:')\n",
    "for l in range(ord):\n",
    "  for c in range(ord):\n",
    "    print('(',l+1,',',c+1,'): ',sep='',end='')\n",
    "    mat[l][c] = int(input())\n",
    "soma = 0\n",
    "for l in range(ord):\n",
    "  for c in range(ord):\n",
    "    if l + c == ord-1:\n",
    "      soma += mat[l][c]\n",
    "print('\\nO resultado da soma é',soma)"
   ]
  },
  {
   "cell_type": "markdown",
   "metadata": {},
   "source": [
    "8. Faça programa que leia uma matriz 3 x 6 com valores reais.\n",
    "    \n",
    "    a. Imprima a soma de todos os elementos das colunas ímpares.\n",
    "    \n",
    "    b. Imprima a média aritmética dos elementos da segunda e quarta colunas.\n",
    "    \n",
    "    c. Substitua os valores da sexta coluna pela soma dos valores das colunas 1 e 2.\n",
    "    \n",
    "    d. Imprima a matriz modificada."
   ]
  },
  {
   "cell_type": "code",
   "execution_count": null,
   "metadata": {},
   "outputs": [],
   "source": [
    "def lermat(matr,l,c):\n",
    "  for i in range(l):\n",
    "    for j in range(c):\n",
    "      print('(',l+1,',',c+1,'): ',end='',sep='')\n",
    "      mat[i][j] = int(input())\n",
    "\n",
    "lin = 3\n",
    "col = 6\n",
    "mat = []\n",
    "for i in range(lin):\n",
    "  mat.append([0]*col)\n",
    "print('Preencha a Matriz: ')\n",
    "lermat(mat,lin,col)\n",
    "\n",
    "soma = some = 0\n",
    "for l in range(lin):\n",
    "  for c in range(col):\n",
    "    if c % 2 == 0:\n",
    "      soma += mat[l][c]\n",
    "    if c == 1 or c == 3:\n",
    "      some += mat[l][c]\n",
    "    mat[l][5] = mat[l][0] + mat[l][1]\n",
    "media = some / 6\n",
    "\n",
    "print('\\nSoma de todos os elementos das colunas ímpares: {}\\nMédia dos elementos da segunda e quarta colunas: {:.2f}\\n'.format(soma,media))\n",
    "for l in range(lin):\n",
    "  for c in range(col):\n",
    "    print(mat[l][c],end=' ')\n",
    "  print()"
   ]
  },
  {
   "cell_type": "markdown",
   "metadata": {},
   "source": [
    "9. Leia uma matriz 5 x 10 que se refere respostas de 10 questões de múltipla escolha, referentes a 5 alunos. Leia também um vetor de 10 posições contendo o gabarito de respostas que podem ser a, b, c ou d. Seu programa deverá comparar as respostas de cada candidato com o gabarito e emitir um vetor denominado resultado, contendo a pontuação correspondente a cada aluno."
   ]
  },
  {
   "cell_type": "code",
   "execution_count": null,
   "metadata": {},
   "outputs": [],
   "source": [
    "#fazer funcoes\n",
    "lin = 5\n",
    "col = 10\n",
    "vet = []\n",
    "mat = []\n",
    "result = []\n",
    "\n",
    "for i in range(lin):\n",
    "  mat.append([0]*col)\n",
    "\n",
    "print('Digite as respostas dos alunos: ')\n",
    "for l in range(lin):\n",
    "  print('\\nAluno ',l+1,sep='')\n",
    "  for c in range(col):\n",
    "    mat[l][c] = input('Questão '+str(c+1)+': ')\n",
    "\n",
    "print('\\nInsira o gabarito: ')\n",
    "for i in range(10):\n",
    "  vet.append(input('Questão '+str(i+1)+': '))\n",
    "\n",
    "for l in range(lin):\n",
    "  cont = 0\n",
    "  for c in range(col):\n",
    "    if mat[l][c] == vet[c]:\n",
    "      cont += 1\n",
    "  result.append(cont)\n",
    "print('\\nAcertos de cada aluno respectivamente:\\n',*result,sep=' ')"
   ]
  },
  {
   "cell_type": "markdown",
   "metadata": {},
   "source": [
    "10. Imprimir as n primeiras linhas do triângulo de Pascal:\n",
    "```\n",
    "    1\n",
    "    1 1\n",
    "    1 2 1\n",
    "    1 3 3 1\n",
    "    1 4 6 4 1\n",
    "    1 5 10 10 5 1 …\n",
    "```"
   ]
  },
  {
   "cell_type": "code",
   "execution_count": null,
   "metadata": {},
   "outputs": [],
   "source": [
    "v = int(input('Quantidade de linhas: '))\n",
    "mat = []\n",
    "for i in range(v):\n",
    "  mat.append([0]*v)\n",
    "\n",
    "for l in range(v):\n",
    "  for c in range(v):\n",
    "    mat[l][0] = 1\n",
    "    mat[l][c] = mat[l-1][c-1] + mat[l-1][c]\n",
    "    if c == l:\n",
    "      mat[l][c] = 1\n",
    "print()\n",
    "for l in range(v):\n",
    "  for c in range(v):\n",
    "    if l > c or l == c: # ou mat[l][c] != 0\n",
    "      print(mat[l][c],end=' ',sep=' ')\n",
    "  print()"
   ]
  },
  {
   "cell_type": "code",
   "execution_count": 3,
   "metadata": {},
   "outputs": [
    {
     "name": "stdout",
     "output_type": "stream",
     "text": [
      "\n",
      "1 0 0 \n",
      "0 1 0 \n",
      "0 0 1 \n"
     ]
    }
   ],
   "source": [
    "ordem = int(input('Informe a ordem da matriz: '))\n",
    "mat = []\n",
    "for i in range(ordem):\n",
    "  mat.append([0]*ordem)\n",
    "\n",
    "for i in range(ordem):\n",
    "  mat[i][i] = 1\n",
    "print()\n",
    "for i in range(ordem):\n",
    "  for j in range(ordem):\n",
    "    print(mat[i][j],end=' ')\n",
    "  print()"
   ]
  },
  {
   "cell_type": "code",
   "execution_count": 1,
   "metadata": {},
   "outputs": [
    {
     "name": "stdout",
     "output_type": "stream",
     "text": [
      "A raiz de 64 é 8\n"
     ]
    }
   ],
   "source": [
    "import math\n",
    "#from math import factorial\n",
    "n = int(input())\n",
    "fact = math.sqrt(n)\n",
    "print('A raiz de {} é {}'.format(n,math.ceil(fact)))"
   ]
  }
 ],
 "metadata": {
  "kernelspec": {
   "display_name": "Python 3",
   "language": "python",
   "name": "python3"
  },
  "language_info": {
   "codemirror_mode": {
    "name": "ipython",
    "version": 3
   },
   "file_extension": ".py",
   "mimetype": "text/x-python",
   "name": "python",
   "nbconvert_exporter": "python",
   "pygments_lexer": "ipython3",
   "version": "3.12.3"
  }
 },
 "nbformat": 4,
 "nbformat_minor": 2
}
